{
 "cells": [
  {
   "cell_type": "code",
   "execution_count": 2,
   "metadata": {},
   "outputs": [],
   "source": [
    "def compute_labeling(dmin, dmax, m, q, w):\n",
    "    def coverage_score(l, u, dmin, dmax):\n",
    "        return (u - l) / (dmax - dmin)\n",
    "\n",
    "    def density_score(l, u, m):\n",
    "        return 1 / (u - l)\n",
    "\n",
    "    def legibility_score():\n",
    "        # Your implementation of legibility score calculation\n",
    "        return 0\n",
    "\n",
    "    best_score = float('inf')\n",
    "    best_l, best_u = 0, 0\n",
    "\n",
    "    for l in range(len(q)):\n",
    "        for u in range(l, len(q)):\n",
    "            coverage = coverage_score(l, u, dmin, dmax)\n",
    "            density = density_score(l, u, m)\n",
    "            legibility = legibility_score()\n",
    "            score = w[0] * (1 - coverage) + w[1] * density + w[2] * (1 - legibility)\n",
    "\n",
    "            if score < best_score:\n",
    "                best_score = score\n",
    "                best_l, best_u = l, u\n",
    "\n",
    "    return {'score': best_score, 'l': best_l, 'u': best_u}\n",
    "\n",
    "def extended_wilkinson(dmin, dmax, m, Q=[1, 5, 2, 2.5, 4, 3], only_loose=False, w=[0.25, 0.2, 0.5, 0.05]):\n",
    "    n = len(Q)\n",
    "    best = {\n",
    "        'score': float('inf'),\n",
    "        'l': 0,\n",
    "        'u': 0\n",
    "    }\n",
    "\n",
    "    for l in range(n):\n",
    "        for u in range(l, n):\n",
    "            q = Q[l:u+1]\n",
    "            candidate = compute_labeling(dmin, dmax, m, q, w)\n",
    "            if candidate['score'] < best['score'] or (candidate['score'] == best['score'] and (candidate['u'] - candidate['l']) < (best['u'] - best['l'])):\n",
    "                best['score'] = candidate['score']\n",
    "                best['l'] = l\n",
    "                best['u'] = u\n",
    "\n",
    "    return [dmin + (dmax - dmin) * qi for qi in Q[best['l']:best['u']+1]]\n"
   ]
  },
  {
   "cell_type": "code",
   "execution_count": 5,
   "metadata": {},
   "outputs": [
    {
     "ename": "ZeroDivisionError",
     "evalue": "division by zero",
     "output_type": "error",
     "traceback": [
      "\u001b[0;31m---------------------------------------------------------------------------\u001b[0m",
      "\u001b[0;31mZeroDivisionError\u001b[0m                         Traceback (most recent call last)",
      "\u001b[1;32m/home/ana/projectMST/new_code_collection02/wilkinson_ex.ipynb Cell 2\u001b[0m line \u001b[0;36m1\n\u001b[0;32m----> <a href='vscode-notebook-cell://wsl%2Bubuntu/home/ana/projectMST/new_code_collection02/wilkinson_ex.ipynb#W2sdnNjb2RlLXJlbW90ZQ%3D%3D?line=0'>1</a>\u001b[0m extended_wilkinson(\u001b[39m2\u001b[39;49m,\u001b[39m6\u001b[39;49m,\u001b[39m4\u001b[39;49m)\n",
      "\u001b[1;32m/home/ana/projectMST/new_code_collection02/wilkinson_ex.ipynb Cell 2\u001b[0m line \u001b[0;36m3\n\u001b[1;32m     <a href='vscode-notebook-cell://wsl%2Bubuntu/home/ana/projectMST/new_code_collection02/wilkinson_ex.ipynb#W2sdnNjb2RlLXJlbW90ZQ%3D%3D?line=36'>37</a>\u001b[0m \u001b[39mfor\u001b[39;00m u \u001b[39min\u001b[39;00m \u001b[39mrange\u001b[39m(l, n):\n\u001b[1;32m     <a href='vscode-notebook-cell://wsl%2Bubuntu/home/ana/projectMST/new_code_collection02/wilkinson_ex.ipynb#W2sdnNjb2RlLXJlbW90ZQ%3D%3D?line=37'>38</a>\u001b[0m     q \u001b[39m=\u001b[39m Q[l:u\u001b[39m+\u001b[39m\u001b[39m1\u001b[39m]\n\u001b[0;32m---> <a href='vscode-notebook-cell://wsl%2Bubuntu/home/ana/projectMST/new_code_collection02/wilkinson_ex.ipynb#W2sdnNjb2RlLXJlbW90ZQ%3D%3D?line=38'>39</a>\u001b[0m     candidate \u001b[39m=\u001b[39m compute_labeling(dmin, dmax, m, q, w)\n\u001b[1;32m     <a href='vscode-notebook-cell://wsl%2Bubuntu/home/ana/projectMST/new_code_collection02/wilkinson_ex.ipynb#W2sdnNjb2RlLXJlbW90ZQ%3D%3D?line=39'>40</a>\u001b[0m     \u001b[39mif\u001b[39;00m candidate[\u001b[39m'\u001b[39m\u001b[39mscore\u001b[39m\u001b[39m'\u001b[39m] \u001b[39m<\u001b[39m best[\u001b[39m'\u001b[39m\u001b[39mscore\u001b[39m\u001b[39m'\u001b[39m] \u001b[39mor\u001b[39;00m (candidate[\u001b[39m'\u001b[39m\u001b[39mscore\u001b[39m\u001b[39m'\u001b[39m] \u001b[39m==\u001b[39m best[\u001b[39m'\u001b[39m\u001b[39mscore\u001b[39m\u001b[39m'\u001b[39m] \u001b[39mand\u001b[39;00m (candidate[\u001b[39m'\u001b[39m\u001b[39mu\u001b[39m\u001b[39m'\u001b[39m] \u001b[39m-\u001b[39m candidate[\u001b[39m'\u001b[39m\u001b[39ml\u001b[39m\u001b[39m'\u001b[39m]) \u001b[39m<\u001b[39m (best[\u001b[39m'\u001b[39m\u001b[39mu\u001b[39m\u001b[39m'\u001b[39m] \u001b[39m-\u001b[39m best[\u001b[39m'\u001b[39m\u001b[39ml\u001b[39m\u001b[39m'\u001b[39m])):\n\u001b[1;32m     <a href='vscode-notebook-cell://wsl%2Bubuntu/home/ana/projectMST/new_code_collection02/wilkinson_ex.ipynb#W2sdnNjb2RlLXJlbW90ZQ%3D%3D?line=40'>41</a>\u001b[0m         best[\u001b[39m'\u001b[39m\u001b[39mscore\u001b[39m\u001b[39m'\u001b[39m] \u001b[39m=\u001b[39m candidate[\u001b[39m'\u001b[39m\u001b[39mscore\u001b[39m\u001b[39m'\u001b[39m]\n",
      "\u001b[1;32m/home/ana/projectMST/new_code_collection02/wilkinson_ex.ipynb Cell 2\u001b[0m line \u001b[0;36m1\n\u001b[1;32m     <a href='vscode-notebook-cell://wsl%2Bubuntu/home/ana/projectMST/new_code_collection02/wilkinson_ex.ipynb#W2sdnNjb2RlLXJlbW90ZQ%3D%3D?line=15'>16</a>\u001b[0m \u001b[39mfor\u001b[39;00m u \u001b[39min\u001b[39;00m \u001b[39mrange\u001b[39m(l, \u001b[39mlen\u001b[39m(q)):\n\u001b[1;32m     <a href='vscode-notebook-cell://wsl%2Bubuntu/home/ana/projectMST/new_code_collection02/wilkinson_ex.ipynb#W2sdnNjb2RlLXJlbW90ZQ%3D%3D?line=16'>17</a>\u001b[0m     coverage \u001b[39m=\u001b[39m coverage_score(l, u, dmin, dmax)\n\u001b[0;32m---> <a href='vscode-notebook-cell://wsl%2Bubuntu/home/ana/projectMST/new_code_collection02/wilkinson_ex.ipynb#W2sdnNjb2RlLXJlbW90ZQ%3D%3D?line=17'>18</a>\u001b[0m     density \u001b[39m=\u001b[39m density_score(l, u, m)\n\u001b[1;32m     <a href='vscode-notebook-cell://wsl%2Bubuntu/home/ana/projectMST/new_code_collection02/wilkinson_ex.ipynb#W2sdnNjb2RlLXJlbW90ZQ%3D%3D?line=18'>19</a>\u001b[0m     legibility \u001b[39m=\u001b[39m legibility_score()\n\u001b[1;32m     <a href='vscode-notebook-cell://wsl%2Bubuntu/home/ana/projectMST/new_code_collection02/wilkinson_ex.ipynb#W2sdnNjb2RlLXJlbW90ZQ%3D%3D?line=19'>20</a>\u001b[0m     score \u001b[39m=\u001b[39m w[\u001b[39m0\u001b[39m] \u001b[39m*\u001b[39m (\u001b[39m1\u001b[39m \u001b[39m-\u001b[39m coverage) \u001b[39m+\u001b[39m w[\u001b[39m1\u001b[39m] \u001b[39m*\u001b[39m density \u001b[39m+\u001b[39m w[\u001b[39m2\u001b[39m] \u001b[39m*\u001b[39m (\u001b[39m1\u001b[39m \u001b[39m-\u001b[39m legibility)\n",
      "\u001b[1;32m/home/ana/projectMST/new_code_collection02/wilkinson_ex.ipynb Cell 2\u001b[0m line \u001b[0;36m6\n\u001b[1;32m      <a href='vscode-notebook-cell://wsl%2Bubuntu/home/ana/projectMST/new_code_collection02/wilkinson_ex.ipynb#W2sdnNjb2RlLXJlbW90ZQ%3D%3D?line=4'>5</a>\u001b[0m \u001b[39mdef\u001b[39;00m \u001b[39mdensity_score\u001b[39m(l, u, m):\n\u001b[0;32m----> <a href='vscode-notebook-cell://wsl%2Bubuntu/home/ana/projectMST/new_code_collection02/wilkinson_ex.ipynb#W2sdnNjb2RlLXJlbW90ZQ%3D%3D?line=5'>6</a>\u001b[0m     \u001b[39mreturn\u001b[39;00m \u001b[39m1\u001b[39;49m \u001b[39m/\u001b[39;49m (u \u001b[39m-\u001b[39;49m l)\n",
      "\u001b[0;31mZeroDivisionError\u001b[0m: division by zero"
     ]
    }
   ],
   "source": [
    "extended_wilkinson(2,6,4)"
   ]
  }
 ],
 "metadata": {
  "kernelspec": {
   "display_name": "base",
   "language": "python",
   "name": "python3"
  },
  "language_info": {
   "codemirror_mode": {
    "name": "ipython",
    "version": 3
   },
   "file_extension": ".py",
   "mimetype": "text/x-python",
   "name": "python",
   "nbconvert_exporter": "python",
   "pygments_lexer": "ipython3",
   "version": "3.10.12"
  }
 },
 "nbformat": 4,
 "nbformat_minor": 2
}
