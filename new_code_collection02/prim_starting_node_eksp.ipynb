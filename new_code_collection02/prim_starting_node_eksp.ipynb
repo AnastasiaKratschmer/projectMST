{
 "cells": [
  {
   "cell_type": "code",
   "execution_count": null,
   "metadata": {},
   "outputs": [],
   "source": [
    "from functions_collection_copy import *\n",
    "import random as random\n",
    "\n",
    "def new_assembly_Prim_x(seqs,score_matrix,gap_cost,starting_node='0', check_integrity=False):\n",
    "    # Make a matrix to hold pairwise alignment costs for all alignment combinations!\n",
    "    matrix = np.full((len(seqs), len(seqs)), np.nan)\n",
    "    # Loop over all pairs\n",
    "    for i, seq1 in enumerate(seqs):\n",
    "        for j, seq2 in enumerate(seqs):\n",
    "            matrix[i, j] = get_cost_2(linear_C(gap_cost, score_matrix, seq1, seq2))\n",
    "    matrix_for_MST=matrix #copy the matrix, so that we ca keep the old matrix and make a changed version to the \"pseudomatrix\" version\n",
    "    matrix_for_MST=convert_to_desired_format_nr_version(matrix_for_MST) #making the \"pseudomatrix\"\n",
    "    if starting_node=='mid':\n",
    "        starting_node=str(np.argmin(matrix.sum(axis=1)))\n",
    "    elif starting_node=='ex':\n",
    "        starting_node=str(np.argmax(matrix.sum(axis=1)))\n",
    "    elif starting_node=='rd':\n",
    "        starting_node=str(np.random.randint(9,matrix.shape[0]))\n",
    "    else:\n",
    "        starting_node=='0'\n",
    "    min_span_edges_res=find_min_span_edges_Prim(matrix_for_MST, starting_node)\n",
    "    in_which_MSA_is_it={}\n",
    "    names=set()\n",
    "    for element in min_span_edges_res:\n",
    "        print(element[2], element[3])\n",
    "        names.add(element[2])\n",
    "        names.add(element[3])\n",
    "    in_which_MSA_is_it ={name: [int(name),0] for name in names}\n",
    "    MSA_list=[[[char] for char in seq] for seq in seqs]\n",
    "    who_aligned_to_who=[]\n",
    "    for row in min_span_edges_res:\n",
    "        node1=row[2]\n",
    "        node2=row[3]\n",
    "        who_aligned_to_who.append([node1,node2])\n",
    "    for element in min_span_edges_res:\n",
    "            node1=element[2]\n",
    "            node2=element[3]\n",
    "            cost=linear_C(gap_cost,score_matrix,seqs[int(node1)],seqs[int(node2)])\n",
    "            alignment1_str,alignment2_str=linear_backtrack(seqs[int(node1)], seqs[int(node2)], cost, score_matrix, gap_cost)\n",
    "            alignment1, alignment2 = [*alignment1_str], [*alignment2_str]\n",
    "            A = [list(e) for e in zip(alignment1,alignment2)]\n",
    "            united_MSA_new=alt_alt_merge_united(A,MSA_list,in_which_MSA_is_it,node1,node2)\n",
    "            in_which_MSA_is_it, MSA_list=perform_updates_OBO(in_which_MSA_is_it, node1, node2, united_MSA_new, MSA_list)\n",
    "    total_cost = compute_cost(MSA_list[0], score_matrix, gap_cost)\n",
    "    if check_integrity==True:\n",
    "       integrity_check_OBO_and_gradual(seqs,in_which_MSA_is_it,who_aligned_to_who,MSA_list, matrix,score_matrix,gap_cost)\n",
    "    total_cost = compute_cost(MSA_list[0], score_matrix, gap_cost)\n",
    "    return(matrix,MSA_list, total_cost)\n",
    "\n"
   ]
  }
 ],
 "metadata": {
  "language_info": {
   "name": "python"
  }
 },
 "nbformat": 4,
 "nbformat_minor": 2
}
