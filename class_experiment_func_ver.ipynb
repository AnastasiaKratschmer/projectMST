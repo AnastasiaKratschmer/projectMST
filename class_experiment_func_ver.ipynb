{
 "cells": [
  {
   "cell_type": "code",
   "execution_count": 1,
   "metadata": {},
   "outputs": [
    {
     "name": "stdout",
     "output_type": "stream",
     "text": [
      "[['' '19' 'a' 'b']\n",
      " ['' '2' 'b' 'c']\n",
      " ['' '2' 'd' 'c']\n",
      " ['' '4' 'd' 'b']\n",
      " ['' '7' 'd' 'a']\n",
      " ['' '44' 'b' 'e']\n",
      " ['' '14' 'f' 'g']\n",
      " ['' '3' 'g' 'a']\n",
      " ['' '5' 'e' 'f']\n",
      " ['' '8' 'h' 'g']\n",
      " ['' '1' 'h' 'e']\n",
      " ['' '10' 'i' 'j']\n",
      " ['' '6' 'h' 'i']\n",
      " ['' '3' 'k' 'j']\n",
      " ['' '9' 'k' 'l']\n",
      " ['' '4' 'm' 'l']\n",
      " ['' '2' 'm' 'n']\n",
      " ['' '5' 'n' 'o']\n",
      " ['' '11' 'o' 'p']\n",
      " ['' '7' 'p' 'm']]\n"
     ]
    }
   ],
   "source": [
    "import numpy as np\n",
    "\n",
    "matrixx = np.array([\n",
    "    [\"\", int(19), \"a\", \"b\"],\n",
    "    [\"\", int(2), \"b\", \"c\"],\n",
    "    [\"\", int(2), \"d\", \"c\"],\n",
    "    [\"\", int(4), \"d\", \"b\"],\n",
    "    [\"\", int(7), \"d\", \"a\"],\n",
    "    [\"\", int(44), \"b\", \"e\"],\n",
    "    [\"\", int(14), \"f\", \"g\"],\n",
    "    [\"\", int(3), \"g\", \"a\"],\n",
    "    [\"\", int(5), \"e\", \"f\"],\n",
    "    [\"\", int(8), \"h\", \"g\"],\n",
    "    [\"\", int(1), \"h\", \"e\"],\n",
    "    [\"\", int(10), \"i\", \"j\"],\n",
    "    [\"\", int(6), \"h\", \"i\"],\n",
    "    [\"\", int(3), \"k\", \"j\"],\n",
    "    [\"\", int(9), \"k\", \"l\"],\n",
    "    [\"\", int(4), \"m\", \"l\"],\n",
    "    [\"\", int(2), \"m\", \"n\"],\n",
    "    [\"\", int(5), \"n\", \"o\"],\n",
    "    [\"\", int(11), \"o\", \"p\"],\n",
    "    [\"\", int(7), \"p\", \"m\"]\n",
    "])\n",
    "\n",
    "print(matrixx)"
   ]
  },
  {
   "cell_type": "code",
   "execution_count": 9,
   "metadata": {},
   "outputs": [],
   "source": [
    "import numpy as np\n",
    "import networkx as nx\n",
    "import matplotlib.pyplot as plt\n",
    "\n",
    "class Tree:\n",
    "    def __init__ (self,name):\n",
    "        self.name=name\n",
    "        self.next=[]\n",
    "        self.components=[self.name]\n",
    "    def __str__(self):\n",
    "        return f\"{self.name} {self.next}\"\n",
    "    def __repr__(self):\n",
    "        return f\"Tree(name='{self.name}', next={self.next})\"\n",
    "    @classmethod\n",
    "    def add(cls, tree1, tree2):\n",
    "        if not tree1.next:\n",
    "            tree1.next.append(tree2)\n",
    "        else:\n",
    "            tree1.next.append(tree2)\n",
    "        tree1.components = tree1.components + tree2.components\n",
    "        del tree2\n",
    "\n",
    "def find_min_span_edges(pseudomatrix):\n",
    "    sorted_indices = np.lexsort((pseudomatrix[:, 1].astype(int),))\n",
    "    E = pseudomatrix[sorted_indices]\n",
    "    names= np.unique(pseudomatrix[:, 2:])\n",
    "    name_dict= {letter:i for i, letter in enumerate(names)}\n",
    "    E[:,0]=''\n",
    "    trees=[]\n",
    "    for item in names:\n",
    "        trees.append(Tree(item))\n",
    "        x=0\n",
    "    for i,item in enumerate(E):\n",
    "        while len(set(name_dict.values()))>1:\n",
    "            min0,min1,min2=E[x][1],E[x][2],E[x][3] #get the next line in the matrix to get the letters/names of the trees\n",
    "            tree1_id= name_dict[min1] #getting the positions of the letters in the current list of trees\n",
    "            tree2_id= name_dict[min2]\n",
    "            if tree2_id==tree1_id:\n",
    "                x+=1\n",
    "                break\n",
    "            else:\n",
    "                E[x][0]=\"*\"\n",
    "                tree1=trees[tree1_id] #get the first tree\n",
    "                tree2=trees[tree2_id] #get he second tree\n",
    "                Tree.add(tree1,tree2) #merge the two trees, meaning that our tree-list gets shorter. PROBLEM THOUGH: the last it. does not fully merge right now----\n",
    "                trees.pop(tree2_id) #remove the tree that we just merged into another tree\n",
    "                if tree1_id<tree2_id:\n",
    "                    orig_tree2_id=tree2_id\n",
    "                    name_dict[min2]=tree1_id # update the number associated with the letter/treee in the dictionary\n",
    "                    for key in name_dict:\n",
    "                        if name_dict[key] >= orig_tree2_id:\n",
    "                            name_dict[key] -= 1\n",
    "                else:\n",
    "                    orig_tree1_id=tree1_id\n",
    "                    name_dict[min1]=tree2_id # update the number associated with the letter/treee in the dictionary\n",
    "                    for key in name_dict:\n",
    "                        if name_dict[key] >= orig_tree1_id:\n",
    "                            name_dict[key] -= 1\n",
    "                x+=1\n",
    "    res_mat=E\n",
    "    return res_mat\n",
    "\n"
   ]
  },
  {
   "cell_type": "code",
   "execution_count": 10,
   "metadata": {},
   "outputs": [
    {
     "name": "stdout",
     "output_type": "stream",
     "text": [
      "[['*' '1' 'h' 'e']\n",
      " ['*' '2' 'b' 'c']\n",
      " ['*' '2' 'd' 'c']\n",
      " ['*' '2' 'm' 'n']\n",
      " ['*' '3' 'g' 'a']\n",
      " ['*' '3' 'k' 'j']\n",
      " ['' '4' 'd' 'b']\n",
      " ['*' '4' 'm' 'l']\n",
      " ['*' '5' 'e' 'f']\n",
      " ['*' '5' 'n' 'o']\n",
      " ['*' '6' 'h' 'i']\n",
      " ['*' '7' 'd' 'a']\n",
      " ['*' '7' 'p' 'm']\n",
      " ['*' '8' 'h' 'g']\n",
      " ['*' '9' 'k' 'l']\n",
      " ['*' '10' 'i' 'j']\n",
      " ['' '11' 'o' 'p']\n",
      " ['' '14' 'f' 'g']\n",
      " ['' '19' 'a' 'b']\n",
      " ['' '44' 'b' 'e']]\n"
     ]
    }
   ],
   "source": [
    "edges_used=find_min_span_edges(matrixx)\n",
    "print(edges_used)"
   ]
  },
  {
   "cell_type": "code",
   "execution_count": 41,
   "metadata": {},
   "outputs": [],
   "source": [
    "def get_visiting_order(res_matrix,source_node):\n",
    "    edges=[]\n",
    "    edges_in_min_path=[]\n",
    "    for row in res_matrix:\n",
    "        weight = int(row[1])  # Extract the weight from the second column\n",
    "        node1 = row[2]  # Extract the first node from the third column\n",
    "        node2 = row[3]  # Extract the second node from the fourth column\n",
    "        edges.append((node1, node2, {'weight': weight}))  # Add the tuple to the list\n",
    "    for row in res_matrix:\n",
    "        if row[0]==\"*\":  # Extract the weight from the second column\n",
    "            node1 = row[2]  # Extract the first node from the third column\n",
    "            node2 = row[3]  # Extract the second node from the fourth column\n",
    "            edge=tuple(sorted([node1,node2]))\n",
    "            edges_in_min_path.append(edge) # Add the tuple to the list\n",
    "    G = nx.Graph()\n",
    "    G.add_nodes_from(np.unique(res_matrix[:, 2:]))\n",
    "    G.add_edges_from(edges)\n",
    "    shortest_path=edges_in_min_path\n",
    "    pos = nx.spring_layout(G)\n",
    "    edge_colors = ['deeppink' if e in shortest_path else 'lavender' for e in G.edges()] #\n",
    "    nx.draw(G, pos, with_labels=True, node_color='bisque', edge_color=edge_colors, width=2, font_size=10)\n",
    "    # Show the plot\n",
    "    plt.show() \n",
    "    dfs_order = list(nx.bfs_tree(G, source=source_node)) #I guess we can use the middle string as the source node or something. or one of the ones that's the most different from the others to hopefully start \"at a side\".\n",
    "    #and really consider using another method than depth-first! like \"nx.bfs_edges\"\n",
    "    return dfs_order"
   ]
  },
  {
   "cell_type": "code",
   "execution_count": 42,
   "metadata": {},
   "outputs": [
    {
     "data": {
      "image/png": "[encoded data removed]",
      "text/plain": [
       "<Figure size 432x288 with 1 Axes>"
      ]
     },
     "metadata": {},
     "output_type": "display_data"
    },
    {
     "name": "stdout",
     "output_type": "stream",
     "text": [
      "['o', 'n', 'p', 'm', 'l', 'k', 'j', 'i', 'h', 'e', 'g', 'f', 'b', 'a', 'c', 'd']\n"
     ]
    }
   ],
   "source": [
    "test=get_visiting_order(edges_used,\"o\")\n",
    "print(test)"
   ]
  },
  {
   "cell_type": "code",
   "execution_count": 53,
   "metadata": {},
   "outputs": [
    {
     "name": "stdout",
     "output_type": "stream",
     "text": [
      "[['' 'a' 'b' 'c']\n",
      " ['a' '0' '1' '2']\n",
      " ['b' '1' '0' '3']\n",
      " ['c' '2' '3' '0']]\n",
      "['a' '0' '1' '2']\n",
      "['b' '1' '0' '3']\n",
      "['c' '2' '3' '0']\n"
     ]
    }
   ],
   "source": [
    "mini_mat= np.array([[\"\",\"a\",\"b\",\"c\"],[\"a\",0,1,2],[\"b\",1,0,3],[\"c\",2,3,0]])\n",
    "\n",
    "\n",
    "def from_matrix_to_pseudomatrix(matrix):\n",
    "    print(matrix)\n",
    "    pseudomatrix=[]\n",
    "    for element in matrix[1:]:\n",
    "        for sub_ele in element[]\n",
    "        print(element)\n",
    "        \n",
    "\n",
    "\n",
    "\n",
    "from_matrix_to_pseudomatrix(mini_mat)\n",
    "    "
   ]
  },
  {
   "cell_type": "code",
   "execution_count": 83,
   "metadata": {},
   "outputs": [
    {
     "name": "stdout",
     "output_type": "stream",
     "text": [
      "4\n",
      "[['' 'a' 'b' 'c']\n",
      " ['a' '0' '1' '2']\n",
      " ['b' '1' '0' '3']\n",
      " ['c' '2' '3' '0']]\n",
      "[['' '1' 'a' 'b']\n",
      " ['' '2' 'a' 'c']\n",
      " ['' '3' 'b' 'c']]\n"
     ]
    }
   ],
   "source": [
    "import numpy as np\n",
    "\n",
    "def convert_format(mini_mat):\n",
    "    # Get the node names (excluding the first row and first column)\n",
    "    node_names = mini_mat[0, 1:]\n",
    "    \n",
    "    # Initialize an empty list to store the rows of the new format\n",
    "    matrixx_rows = []\n",
    "    print(len(mini_mat))\n",
    "    print(mini_mat)\n",
    "    x=len(mini_mat)-1\n",
    "    processed_edges=set()\n",
    "    # Process the mini_mat to generate the rows of the new format\n",
    "    for i, row in enumerate(mini_mat[1:, 1:]):\n",
    "        for j, distance in enumerate(row):\n",
    "            if i != j:\n",
    "                node1 = mini_mat[i + 1, 0]\n",
    "                node2 = mini_mat[0, j + 1]\n",
    "                edge = (node1, node2) if node1 < node2 else (node2, node1)\n",
    "                if edge not in processed_edges:\n",
    "                    matrixx_rows.append([\"\", int(distance), node1, node2])\n",
    "                    processed_edges.add(edge)\n",
    "    \n",
    "    # Convert the list of rows to a NumPy array\n",
    "    matrixx_np = np.array(matrixx_rows)\n",
    "    \n",
    "    return matrixx_np\n",
    "\n",
    "# Example usage:\n",
    "mini_mat = np.array([[\"\",\"a\",\"b\",\"c\"],[\"a\",0,1,2],[\"b\",1,0,3],[\"c\",2,3,0]])\n",
    "matrixx = convert_format(mini_mat)\n",
    "print(matrixx)"
   ]
  }
 ],
 "metadata": {
  "kernelspec": {
   "display_name": "Python 3",
   "language": "python",
   "name": "python3"
  },
  "language_info": {
   "codemirror_mode": {
    "name": "ipython",
    "version": 3
   },
   "file_extension": ".py",
   "mimetype": "text/x-python",
   "name": "python",
   "nbconvert_exporter": "python",
   "pygments_lexer": "ipython3",
   "version": "3.9.12"
  },
  "orig_nbformat": 4
 },
 "nbformat": 4,
 "nbformat_minor": 2
}
