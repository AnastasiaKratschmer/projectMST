{
 "cells": [
  {
   "cell_type": "code",
   "execution_count": 219,
   "metadata": {},
   "outputs": [],
   "source": [
    "import numpy as np\n",
    "import networkx as nx\n",
    "import matplotlib.pyplot as plt"
   ]
  },
  {
   "cell_type": "code",
   "execution_count": 178,
   "metadata": {},
   "outputs": [],
   "source": [
    "\n",
    "#ok, let's try with a class\n",
    "class Tree:\n",
    "    def __init__ (self,name):\n",
    "        self.name=name\n",
    "        self.next=[]\n",
    "        self.components=[self.name]\n",
    "    def __str__(self):\n",
    "        return f\"{self.name} {self.next}\"\n",
    "    def __repr__(self):\n",
    "        return f\"Tree(name='{self.name}', next={self.next})\"\n",
    "    @classmethod\n",
    "    def add(cls, tree1, tree2):\n",
    "        if not tree1.next:\n",
    "            tree1.next.append(tree2)\n",
    "        else:\n",
    "            tree1.next.append(tree2)\n",
    "        #tree1.name = tree1.name + \",\" + tree2.name\n",
    "        tree1.components = tree1.components + tree2.components\n",
    "        del tree2"
   ]
  },
  {
   "cell_type": "code",
   "execution_count": 202,
   "metadata": {},
   "outputs": [
    {
     "name": "stdout",
     "output_type": "stream",
     "text": [
      "[['' '19' 'a' 'b']\n",
      " ['' '2' 'b' 'c']\n",
      " ['' '2' 'd' 'c']\n",
      " ['' '4' 'd' 'b']\n",
      " ['' '7' 'd' 'a']\n",
      " ['' '44' 'b' 'e']]\n"
     ]
    }
   ],
   "source": [
    "matrixx=np.array([[\"\",int(19),\"a\",\"b\"],[\"\",int(2),\"b\",\"c\"],[\"\",int(2),\"d\",\"c\"],[\"\",int(4),\"d\",\"b\"],[\"\",int(7),\"d\",\"a\"],[\"\",44,\"b\",\"e\"]])\n",
    "print(matrixx)"
   ]
  },
  {
   "cell_type": "code",
   "execution_count": 203,
   "metadata": {},
   "outputs": [
    {
     "name": "stdout",
     "output_type": "stream",
     "text": [
      "[['' '2' 'b' 'c']\n",
      " ['' '2' 'd' 'c']\n",
      " ['' '4' 'd' 'b']\n",
      " ['' '7' 'd' 'a']\n",
      " ['' '19' 'a' 'b']\n",
      " ['' '44' 'b' 'e']]\n"
     ]
    }
   ],
   "source": [
    "#now to sorting the matrix\n",
    "sorted_indices = np.lexsort((matrixx[:, 1].astype(int),))\n",
    "E = matrixx[sorted_indices]\n",
    "print(E)"
   ]
  },
  {
   "cell_type": "code",
   "execution_count": 205,
   "metadata": {},
   "outputs": [
    {
     "name": "stdout",
     "output_type": "stream",
     "text": [
      "2 b c\n"
     ]
    }
   ],
   "source": [
    "min0,min1,min2=E[0][1],E[0][2],E[0][3] #extracting minmum path from the sorted matrix (E)\n",
    "print(min0,min1,min2)"
   ]
  },
  {
   "cell_type": "code",
   "execution_count": 214,
   "metadata": {},
   "outputs": [
    {
     "name": "stdout",
     "output_type": "stream",
     "text": [
      "['a' 'b' 'c' 'd' 'e']\n",
      "{'a': 0, 'b': 1, 'c': 2, 'd': 3, 'e': 4}\n",
      "\n",
      " \n",
      " new loop started\n",
      "iteration0\n",
      "dict, begin it0\n",
      "{'a': 0, 'b': 1, 'c': 2, 'd': 3, 'e': 4}\n",
      "trees, begin it0\n",
      "[Tree(name='a', next=[]), Tree(name='b', next=[]), Tree(name='c', next=[]), Tree(name='d', next=[]), Tree(name='e', next=[])]\n",
      "id tree1:\n",
      "1\n",
      "id tree 2:\n",
      "2\n",
      "trees and dict after it.0:\n",
      "[Tree(name='a', next=[]), Tree(name='b', next=[Tree(name='c', next=[])]), Tree(name='d', next=[]), Tree(name='e', next=[])]\n",
      "{'a': 0, 'b': 1, 'c': 1, 'd': 2, 'e': 3}\n",
      "[['*' '19' 'a' 'b']\n",
      " ['*' '2' 'b' 'c']\n",
      " ['' '2' 'd' 'c']\n",
      " ['*' '4' 'd' 'b']\n",
      " ['' '7' 'd' 'a']\n",
      " ['*' '44' 'b' 'e']]\n",
      "\n",
      " \n",
      " new loop started\n",
      "iteration1\n",
      "dict, begin it1\n",
      "{'a': 0, 'b': 1, 'c': 1, 'd': 2, 'e': 3}\n",
      "trees, begin it1\n",
      "[Tree(name='a', next=[]), Tree(name='b', next=[Tree(name='c', next=[])]), Tree(name='d', next=[]), Tree(name='e', next=[])]\n",
      "id tree1:\n",
      "2\n",
      "id tree 2:\n",
      "1\n",
      "trees and dict after it.1:\n",
      "[Tree(name='a', next=[]), Tree(name='d', next=[Tree(name='b', next=[Tree(name='c', next=[])])]), Tree(name='e', next=[])]\n",
      "{'a': 0, 'b': 1, 'c': 1, 'd': 1, 'e': 2}\n",
      "[['*' '19' 'a' 'b']\n",
      " ['*' '2' 'b' 'c']\n",
      " ['' '2' 'd' 'c']\n",
      " ['*' '4' 'd' 'b']\n",
      " ['' '7' 'd' 'a']\n",
      " ['*' '44' 'b' 'e']]\n",
      "\n",
      " \n",
      " new loop started\n",
      "iteration2\n",
      "dict, begin it2\n",
      "{'a': 0, 'b': 1, 'c': 1, 'd': 1, 'e': 2}\n",
      "trees, begin it2\n",
      "[Tree(name='a', next=[]), Tree(name='d', next=[Tree(name='b', next=[Tree(name='c', next=[])])]), Tree(name='e', next=[])]\n",
      "i entered the break place with1and1\n",
      "\n",
      " \n",
      " new loop started\n",
      "iteration3\n",
      "dict, begin it3\n",
      "{'a': 0, 'b': 1, 'c': 1, 'd': 1, 'e': 2}\n",
      "trees, begin it3\n",
      "[Tree(name='a', next=[]), Tree(name='d', next=[Tree(name='b', next=[Tree(name='c', next=[])])]), Tree(name='e', next=[])]\n",
      "id tree1:\n",
      "1\n",
      "id tree 2:\n",
      "0\n",
      "trees and dict after it.3:\n",
      "[Tree(name='d', next=[Tree(name='b', next=[Tree(name='c', next=[])]), Tree(name='a', next=[])]), Tree(name='e', next=[])]\n",
      "{'a': 0, 'b': 0, 'c': 0, 'd': 0, 'e': 1}\n",
      "[['*' '19' 'a' 'b']\n",
      " ['*' '2' 'b' 'c']\n",
      " ['' '2' 'd' 'c']\n",
      " ['*' '4' 'd' 'b']\n",
      " ['' '7' 'd' 'a']\n",
      " ['*' '44' 'b' 'e']]\n",
      "\n",
      " \n",
      " new loop started\n",
      "iteration4\n",
      "dict, begin it4\n",
      "{'a': 0, 'b': 0, 'c': 0, 'd': 0, 'e': 1}\n",
      "trees, begin it4\n",
      "[Tree(name='d', next=[Tree(name='b', next=[Tree(name='c', next=[])]), Tree(name='a', next=[])]), Tree(name='e', next=[])]\n",
      "i entered the break place with0and0\n",
      "\n",
      " \n",
      " new loop started\n",
      "iteration5\n",
      "dict, begin it5\n",
      "{'a': 0, 'b': 0, 'c': 0, 'd': 0, 'e': 1}\n",
      "trees, begin it5\n",
      "[Tree(name='d', next=[Tree(name='b', next=[Tree(name='c', next=[])]), Tree(name='a', next=[])]), Tree(name='e', next=[])]\n",
      "id tree1:\n",
      "0\n",
      "id tree 2:\n",
      "1\n",
      "trees and dict after it.5:\n",
      "[Tree(name='d', next=[Tree(name='b', next=[Tree(name='c', next=[])]), Tree(name='a', next=[]), Tree(name='e', next=[])])]\n",
      "{'a': 0, 'b': 0, 'c': 0, 'd': 0, 'e': 0}\n",
      "[['*' '19' 'a' 'b']\n",
      " ['*' '2' 'b' 'c']\n",
      " ['' '2' 'd' 'c']\n",
      " ['*' '4' 'd' 'b']\n",
      " ['' '7' 'd' 'a']\n",
      " ['*' '44' 'b' 'e']]\n"
     ]
    }
   ],
   "source": [
    "names= np.unique(matrixx[:, 2:])\n",
    "print(names)\n",
    "name_dict= {letter:i for i, letter in enumerate(names)}\n",
    "print(name_dict)\n",
    "\n",
    "trees=[]\n",
    "for item in names:\n",
    "    trees.append(Tree(item))\n",
    "    x=0\n",
    "for i,item in enumerate(E):\n",
    "    while len(set(name_dict.values()))>1:\n",
    "        print(\"\\n \\n new loop started\")\n",
    "        print(\"iteration\"+str(x))\n",
    "        print(\"dict, begin it\"+str(x))\n",
    "        print(name_dict)\n",
    "        print(\"trees, begin it\"+str(x))\n",
    "        print(trees)\n",
    "        min0,min1,min2=E[x][1],E[x][2],E[x][3] #get the next line in the matrix to get the letters/names of the trees\n",
    "        tree1_id= name_dict[min1] #getting the positions of the letters in the current list of trees\n",
    "        tree2_id= name_dict[min2]\n",
    "        if tree2_id==tree1_id:\n",
    "            print(\"i entered the break place with\"+ str(tree1_id)+\"and\"+str(tree2_id))\n",
    "            x+=1\n",
    "            break\n",
    "        else:\n",
    "            matrixx[x][0]=\"*\"\n",
    "            print(\"id tree1:\")\n",
    "            print(tree1_id)\n",
    "            print(\"id tree 2:\")\n",
    "            print(tree2_id)\n",
    "            tree1=trees[tree1_id] #get the first tree\n",
    "            tree2=trees[tree2_id] #get he second tree\n",
    "            Tree.add(tree1,tree2) #merge the two trees, meaning that our tree-list gets shorter. PROBLEM THOUGH: the last it. does not fully merge right now----\n",
    "            trees.pop(tree2_id) #remove the tree that we just merged into another tree\n",
    "            #name_dict = {key: value if value <= tree1_id else tree1_id for key, value in name_dict.items()}\n",
    "            if tree1_id<tree2_id:\n",
    "                name_dict[min2]=tree1_id # update the number associated with the letter/treee in the dictionary\n",
    "                name_dict = {key: (value - 1) if value > tree1_id else value for key, value in name_dict.items()}\n",
    "            else:\n",
    "                name_dict[min1]=tree2_id # update the number associated with the letter/treee in the dictionary\n",
    "                name_dict = {key: (value - 1) if value > tree2_id else value for key, value in name_dict.items()}\n",
    "            print(\"trees and dict after it.\"+str(x)+\":\")\n",
    "            print(trees)\n",
    "            print(name_dict)\n",
    "            print(matrixx)\n",
    "            x+=1\n",
    "res_mat=matrixx\n",
    "            "
   ]
  },
  {
   "cell_type": "code",
   "execution_count": 240,
   "metadata": {},
   "outputs": [
    {
     "name": "stdout",
     "output_type": "stream",
     "text": [
      "[['*' '19' 'a' 'b']\n",
      " ['*' '2' 'b' 'c']\n",
      " ['' '2' 'd' 'c']\n",
      " ['*' '4' 'd' 'b']\n",
      " ['' '7' 'd' 'a']\n",
      " ['*' '44' 'b' 'e']]\n",
      "[('a', 'b', {'weight': 19}), ('b', 'c', {'weight': 2}), ('d', 'c', {'weight': 2}), ('d', 'b', {'weight': 4}), ('d', 'a', {'weight': 7}), ('b', 'e', {'weight': 44})]\n",
      "[('a', 'b'), ('b', 'c'), ('d', 'b'), ('b', 'e')]\n"
     ]
    }
   ],
   "source": [
    "#ok, now it could be really funny to see if I can draw the result!! #I start with my result from before.\n",
    "print(res_mat)\n",
    "edges=[]\n",
    "\n",
    "for row in res_mat:\n",
    "    weight = int(row[1])  # Extract the weight from the second column\n",
    "    node1 = row[2]  # Extract the first node from the third column\n",
    "    node2 = row[3]  # Extract the second node from the fourth column\n",
    "    edges.append((node1, node2, {'weight': weight}))  # Add the tuple to the list\n",
    "\n",
    "print(edges)\n",
    "\n",
    "edges_in_min_path=[]\n",
    "\n",
    "for row in res_mat:\n",
    "    if row[0]==\"*\":  # Extract the weight from the second column\n",
    "        node1 = row[2]  # Extract the first node from the third column\n",
    "        node2 = row[3]  # Extract the second node from the fourth column\n",
    "        edges_in_min_path.append((node1, node2))  # Add the tuple to the list\n",
    "\n",
    "print(edges_in_min_path)"
   ]
  },
  {
   "cell_type": "code",
   "execution_count": 241,
   "metadata": {},
   "outputs": [
    {
     "name": "stdout",
     "output_type": "stream",
     "text": [
      "['a', 'b', 'c', 'd', 'e']\n",
      "[('a', 'b'), ('a', 'd'), ('b', 'c'), ('b', 'd'), ('b', 'e'), ('c', 'd')]\n"
     ]
    },
    {
     "data": {
      "image/png": "[encoded data removed]",
      "text/plain": [
       "<Figure size 432x288 with 1 Axes>"
      ]
     },
     "metadata": {},
     "output_type": "display_data"
    }
   ],
   "source": [
    "import networkx as nx\n",
    "import matplotlib.pyplot as plt\n",
    "G = nx.Graph()\n",
    "G.add_nodes_from(np.unique(matrixx[:, 2:]))\n",
    "G.add_edges_from(edges)\n",
    "shortest_path=edges_in_min_path\n",
    "\n",
    "print(G.nodes)\n",
    "print(G.edges)\n",
    "\n",
    "pos = nx.spring_layout(G)\n",
    "edge_colors = ['red' if e in shortest_path else 'black' for e in G.edges()] #\n",
    "nx.draw(G, pos, with_labels=True, node_color='lightblue', edge_color=edge_colors, width=2, font_size=10)\n",
    "\n",
    "# Show the plot\n",
    "plt.show() #ummmm it's not coloring the d-b-path... which is strange!!! but otherwise pretty cool"
   ]
  }
 ],
 "metadata": {
  "kernelspec": {
   "display_name": "Python 3",
   "language": "python",
   "name": "python3"
  },
  "language_info": {
   "codemirror_mode": {
    "name": "ipython",
    "version": 3
   },
   "file_extension": ".py",
   "mimetype": "text/x-python",
   "name": "python",
   "nbconvert_exporter": "python",
   "pygments_lexer": "ipython3",
   "version": "3.9.12"
  },
  "orig_nbformat": 4
 },
 "nbformat": 4,
 "nbformat_minor": 2
}
