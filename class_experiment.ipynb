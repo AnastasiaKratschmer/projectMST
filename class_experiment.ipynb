{
 "cells": [
  {
   "cell_type": "code",
   "execution_count": 1,
   "metadata": {},
   "outputs": [],
   "source": [
    "import numpy as np"
   ]
  },
  {
   "cell_type": "code",
   "execution_count": 81,
   "metadata": {},
   "outputs": [],
   "source": [
    "\n",
    "#ok, let's try with a class\n",
    "class Tree:\n",
    "    def __init__ (self,name):\n",
    "        self.name=name\n",
    "        self.next=np.nan\n",
    "    def __str__(self):\n",
    "        return f\"{self.name} {self.next}\"\n",
    "    @classmethod\n",
    "    def append(cls,tree1,tree2):\n",
    "        if tree1.next==np.nan: #this I think is not valid!!\n",
    "            tree1.next.append(tree2)\n",
    "        else:\n",
    "            tree1.next[-1].append(tree2)\n",
    "        tree1.name=tree1.name+\",\"+tree2.name\n",
    "        del(tree2)"
   ]
  },
  {
   "cell_type": "code",
   "execution_count": 74,
   "metadata": {},
   "outputs": [
    {
     "name": "stdout",
     "output_type": "stream",
     "text": [
      "[['' 'a' 'b' 'c' 'd']\n",
      " ['a' 'inf' '2.8' '5.6' '8.4']\n",
      " ['b' '2.8' 'inf' '2.8' '5.6']\n",
      " ['c' '5.6' '2.8' 'inf' '2.8']\n",
      " ['d' '8.4' '5.6' '2.8' 'inf']]\n"
     ]
    }
   ],
   "source": [
    "matrix = np.array([[\"\",\"a\",\"b\",\"c\",\"d\"],\n",
    "                    [\"a\",float('inf'), 2.8, 5.6, 8.4],\n",
    "                      [\"b\",2.8, float('inf'), 2.8, 5.6],\n",
    "                      [\"c\",5.6, 2.8, float('inf'), 2.8],\n",
    "                      [\"d\",8.4, 5.6, 2.8, float('inf')]])\n",
    "print(matrix)"
   ]
  },
  {
   "cell_type": "code",
   "execution_count": 76,
   "metadata": {},
   "outputs": [
    {
     "name": "stdout",
     "output_type": "stream",
     "text": [
      "[['19' 'a' 'b']\n",
      " ['2' 'b' 'c']\n",
      " ['2' 'd' 'c']\n",
      " ['4' 'd' 'b']\n",
      " ['7' 'd' 'a']]\n"
     ]
    }
   ],
   "source": [
    "matrixx=np.array([[int(19),\"a\",\"b\"],[int(2),\"b\",\"c\"],[int(2),\"d\",\"c\"],[int(4),\"d\",\"b\"],[int(7),\"d\",\"a\"]])\n",
    "print(matrixx)"
   ]
  },
  {
   "cell_type": "code",
   "execution_count": 50,
   "metadata": {},
   "outputs": [
    {
     "name": "stdout",
     "output_type": "stream",
     "text": [
      "['a', 'b', 'c', 'd']\n"
     ]
    }
   ],
   "source": [
    "names=[item[0] for item in matrix][1:]\n",
    "print(names)\n"
   ]
  },
  {
   "cell_type": "code",
   "execution_count": 73,
   "metadata": {},
   "outputs": [
    {
     "name": "stdout",
     "output_type": "stream",
     "text": [
      "[<__main__.Tree object at 0x000001EDC3549F40>, <__main__.Tree object at 0x000001EDC3170B80>, <__main__.Tree object at 0x000001EDC35D03A0>, <__main__.Tree object at 0x000001EDC334D760>]\n",
      "a nan\n",
      "b nan\n",
      "c nan\n",
      "d nan\n"
     ]
    }
   ],
   "source": [
    "trees=[]\n",
    "for item in names:\n",
    "    trees.append(Tree(item))\n",
    "print(trees) #extremely unelegant output, but it seems to kinda work\n",
    "print(trees[0])\n",
    "print(trees[1])\n",
    "print(trees[2])\n",
    "print(trees[3])"
   ]
  },
  {
   "cell_type": "code",
   "execution_count": 77,
   "metadata": {},
   "outputs": [
    {
     "name": "stdout",
     "output_type": "stream",
     "text": [
      "[['2' 'b' 'c']\n",
      " ['2' 'd' 'c']\n",
      " ['4' 'd' 'b']\n",
      " ['7' 'd' 'a']\n",
      " ['19' 'a' 'b']]\n"
     ]
    }
   ],
   "source": [
    "#now to sorting the matrix\n",
    "sorted_indices = np.lexsort((matrixx[:, 0].astype(int),))\n",
    "E = matrixx[sorted_indices]\n",
    "print(E)"
   ]
  },
  {
   "cell_type": "code",
   "execution_count": 78,
   "metadata": {},
   "outputs": [
    {
     "name": "stdout",
     "output_type": "stream",
     "text": [
      "2 b c\n"
     ]
    }
   ],
   "source": [
    "min0,min1,min2=E[0][0],E[0][1],E[0][2] #extracting minmum path from the sorted matrix (E)\n",
    "print(min0,min1,min2)"
   ]
  },
  {
   "cell_type": "code",
   "execution_count": 82,
   "metadata": {},
   "outputs": [
    {
     "ename": "AttributeError",
     "evalue": "'numpy.str_' object has no attribute 'next'",
     "output_type": "error",
     "traceback": [
      "\u001b[1;31m---------------------------------------------------------------------------\u001b[0m",
      "\u001b[1;31mAttributeError\u001b[0m                            Traceback (most recent call last)",
      "\u001b[1;32mc:\\Users\\anastasia\\OneDrive\\Documents\\Kandidat\\Bioinf_sem_3\\Projekt\\projectMST\\class_experiment.ipynb Cell 9\u001b[0m in \u001b[0;36m<cell line: 4>\u001b[1;34m()\u001b[0m\n\u001b[0;32m      <a href='vscode-notebook-cell:/c%3A/Users/anastasia/OneDrive/Documents/Kandidat/Bioinf_sem_3/Projekt/projectMST/class_experiment.ipynb#X16sZmlsZQ%3D%3D?line=5'>6</a>\u001b[0m tree1\u001b[39m=\u001b[39mmin1\n\u001b[0;32m      <a href='vscode-notebook-cell:/c%3A/Users/anastasia/OneDrive/Documents/Kandidat/Bioinf_sem_3/Projekt/projectMST/class_experiment.ipynb#X16sZmlsZQ%3D%3D?line=6'>7</a>\u001b[0m tree2\u001b[39m=\u001b[39mmin2\n\u001b[1;32m----> <a href='vscode-notebook-cell:/c%3A/Users/anastasia/OneDrive/Documents/Kandidat/Bioinf_sem_3/Projekt/projectMST/class_experiment.ipynb#X16sZmlsZQ%3D%3D?line=7'>8</a>\u001b[0m Tree\u001b[39m.\u001b[39;49mappend(tree1,tree2)\n",
      "\u001b[1;32mc:\\Users\\anastasia\\OneDrive\\Documents\\Kandidat\\Bioinf_sem_3\\Projekt\\projectMST\\class_experiment.ipynb Cell 9\u001b[0m in \u001b[0;36mTree.append\u001b[1;34m(cls, tree1, tree2)\u001b[0m\n\u001b[0;32m      <a href='vscode-notebook-cell:/c%3A/Users/anastasia/OneDrive/Documents/Kandidat/Bioinf_sem_3/Projekt/projectMST/class_experiment.ipynb#X16sZmlsZQ%3D%3D?line=7'>8</a>\u001b[0m \u001b[39m@classmethod\u001b[39m\n\u001b[0;32m      <a href='vscode-notebook-cell:/c%3A/Users/anastasia/OneDrive/Documents/Kandidat/Bioinf_sem_3/Projekt/projectMST/class_experiment.ipynb#X16sZmlsZQ%3D%3D?line=8'>9</a>\u001b[0m \u001b[39mdef\u001b[39;00m \u001b[39mappend\u001b[39m(\u001b[39mcls\u001b[39m,tree1,tree2):\n\u001b[1;32m---> <a href='vscode-notebook-cell:/c%3A/Users/anastasia/OneDrive/Documents/Kandidat/Bioinf_sem_3/Projekt/projectMST/class_experiment.ipynb#X16sZmlsZQ%3D%3D?line=9'>10</a>\u001b[0m     \u001b[39mif\u001b[39;00m tree1\u001b[39m.\u001b[39;49mnext\u001b[39m==\u001b[39mnp\u001b[39m.\u001b[39mnan:\n\u001b[0;32m     <a href='vscode-notebook-cell:/c%3A/Users/anastasia/OneDrive/Documents/Kandidat/Bioinf_sem_3/Projekt/projectMST/class_experiment.ipynb#X16sZmlsZQ%3D%3D?line=10'>11</a>\u001b[0m         tree1\u001b[39m.\u001b[39mnext\u001b[39m.\u001b[39mappend(tree2)\n\u001b[0;32m     <a href='vscode-notebook-cell:/c%3A/Users/anastasia/OneDrive/Documents/Kandidat/Bioinf_sem_3/Projekt/projectMST/class_experiment.ipynb#X16sZmlsZQ%3D%3D?line=11'>12</a>\u001b[0m     \u001b[39melse\u001b[39;00m:\n",
      "\u001b[1;31mAttributeError\u001b[0m: 'numpy.str_' object has no attribute 'next'"
     ]
    }
   ],
   "source": [
    "trees=[]\n",
    "for item in names:\n",
    "    trees.append(Tree(item))\n",
    "for item in E:\n",
    "    min0,min1,min2=E[0][0],E[0][1],E[0][2]\n",
    "    tree1=min1\n",
    "    tree2=min2\n",
    "    Tree.append(tree1,tree2)\n",
    "    \n",
    "    "
   ]
  },
  {
   "cell_type": "code",
   "execution_count": null,
   "metadata": {},
   "outputs": [],
   "source": []
  }
 ],
 "metadata": {
  "kernelspec": {
   "display_name": "Python 3",
   "language": "python",
   "name": "python3"
  },
  "language_info": {
   "codemirror_mode": {
    "name": "ipython",
    "version": 3
   },
   "file_extension": ".py",
   "mimetype": "text/x-python",
   "name": "python",
   "nbconvert_exporter": "python",
   "pygments_lexer": "ipython3",
   "version": "3.9.12"
  },
  "orig_nbformat": 4
 },
 "nbformat": 4,
 "nbformat_minor": 2
}
