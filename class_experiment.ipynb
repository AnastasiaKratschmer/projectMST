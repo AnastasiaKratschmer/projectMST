{
 "cells": [
  {
   "cell_type": "code",
   "execution_count": 95,
   "metadata": {},
   "outputs": [],
   "source": [
    "import numpy as np"
   ]
  },
  {
   "cell_type": "code",
   "execution_count": 163,
   "metadata": {},
   "outputs": [],
   "source": [
    "\n",
    "#ok, let's try with a class\n",
    "class Tree:\n",
    "    def __init__ (self,name):\n",
    "        self.name=name\n",
    "        self.next=[]\n",
    "        self.components=[self.name]\n",
    "    def __str__(self):\n",
    "        return f\"{self.name} {self.next}\"\n",
    "    @classmethod\n",
    "    def append(cls, tree1, tree2):\n",
    "        if tree1.next==[]:\n",
    "            tree1.next=tree2\n",
    "        else:\n",
    "            tree1.next[-1]=tree2\n",
    "        tree1.name = tree1.name + \",\" + tree2.name\n",
    "        tree1.components = tree1.components + tree2.components\n",
    "        del tree2"
   ]
  },
  {
   "cell_type": "code",
   "execution_count": 107,
   "metadata": {},
   "outputs": [
    {
     "name": "stdout",
     "output_type": "stream",
     "text": [
      "[['' 'a' 'b' 'c' 'd']\n",
      " ['a' 'inf' '2.8' '5.6' '8.4']\n",
      " ['b' '2.8' 'inf' '2.8' '5.6']\n",
      " ['c' '5.6' '2.8' 'inf' '2.8']\n",
      " ['d' '8.4' '5.6' '2.8' 'inf']]\n"
     ]
    }
   ],
   "source": [
    "matrix = np.array([[\"\",\"a\",\"b\",\"c\",\"d\"],\n",
    "                    [\"a\",float('inf'), 2.8, 5.6, 8.4],\n",
    "                      [\"b\",2.8, float('inf'), 2.8, 5.6],\n",
    "                      [\"c\",5.6, 2.8, float('inf'), 2.8],\n",
    "                      [\"d\",8.4, 5.6, 2.8, float('inf')]])\n",
    "print(matrix)"
   ]
  },
  {
   "cell_type": "code",
   "execution_count": 116,
   "metadata": {},
   "outputs": [
    {
     "name": "stdout",
     "output_type": "stream",
     "text": [
      "[['19' 'a' 'b']\n",
      " ['2' 'b' 'c']\n",
      " ['2' 'd' 'c']\n",
      " ['4' 'd' 'b']\n",
      " ['7' 'd' 'a']]\n"
     ]
    }
   ],
   "source": [
    "matrixx=np.array([[int(19),\"a\",\"b\"],[int(2),\"b\",\"c\"],[int(2),\"d\",\"c\"],[int(4),\"d\",\"b\"],[int(7),\"d\",\"a\"]])\n",
    "print(matrixx)"
   ]
  },
  {
   "cell_type": "code",
   "execution_count": 143,
   "metadata": {},
   "outputs": [
    {
     "name": "stdout",
     "output_type": "stream",
     "text": [
      "['a', 'b', 'c', 'd']\n",
      "{'a': 1, 'b': 2, 'c': 3, 'd': 4}\n"
     ]
    }
   ],
   "source": [
    "names=[item[0] for item in matrix][1:]\n",
    "print(names)\n",
    "\n",
    "name_dict=my_dict = {letter:i+1 for i, letter in enumerate(names)}\n",
    "\n",
    "print(name_dict)\n"
   ]
  },
  {
   "cell_type": "code",
   "execution_count": 158,
   "metadata": {},
   "outputs": [
    {
     "name": "stdout",
     "output_type": "stream",
     "text": [
      "[<__main__.Tree object at 0x000001EDC4175C70>, <__main__.Tree object at 0x000001EDC4175190>, <__main__.Tree object at 0x000001EDC4175760>, <__main__.Tree object at 0x000001EDC41759A0>]\n",
      "a []\n",
      "b []\n",
      "c []\n",
      "d []\n"
     ]
    }
   ],
   "source": [
    "trees=[]\n",
    "for item in names:\n",
    "    trees.append(Tree(item))\n",
    "print(trees) #extremely unelegant output, but it seems to kinda work\n",
    "print(trees[0])\n",
    "print(trees[1])\n",
    "print(trees[2])\n",
    "print(trees[3])\n",
    "\n",
    "\n",
    "\n"
   ]
  },
  {
   "cell_type": "code",
   "execution_count": 119,
   "metadata": {},
   "outputs": [
    {
     "name": "stdout",
     "output_type": "stream",
     "text": [
      "[['2' 'b' 'c']\n",
      " ['2' 'd' 'c']\n",
      " ['4' 'd' 'b']\n",
      " ['7' 'd' 'a']\n",
      " ['19' 'a' 'b']]\n"
     ]
    }
   ],
   "source": [
    "#now to sorting the matrix\n",
    "sorted_indices = np.lexsort((matrixx[:, 0].astype(int),))\n",
    "E = matrixx[sorted_indices]\n",
    "print(E)"
   ]
  },
  {
   "cell_type": "code",
   "execution_count": 120,
   "metadata": {},
   "outputs": [
    {
     "name": "stdout",
     "output_type": "stream",
     "text": [
      "2 b c\n"
     ]
    }
   ],
   "source": [
    "min0,min1,min2=E[0][0],E[0][1],E[0][2] #extracting minmum path from the sorted matrix (E)\n",
    "print(min0,min1,min2)"
   ]
  },
  {
   "cell_type": "code",
   "execution_count": 164,
   "metadata": {},
   "outputs": [
    {
     "name": "stdout",
     "output_type": "stream",
     "text": [
      "2\n",
      "3\n",
      "2\n",
      "3\n"
     ]
    },
    {
     "ename": "TypeError",
     "evalue": "'Tree' object does not support item assignment",
     "output_type": "error",
     "traceback": [
      "\u001b[1;31m---------------------------------------------------------------------------\u001b[0m",
      "\u001b[1;31mTypeError\u001b[0m                                 Traceback (most recent call last)",
      "\u001b[1;32mc:\\Users\\anastasia\\OneDrive\\Documents\\Kandidat\\Bioinf_sem_3\\Projekt\\projectMST\\class_experiment.ipynb Cell 9\u001b[0m in \u001b[0;36m<cell line: 4>\u001b[1;34m()\u001b[0m\n\u001b[0;32m     <a href='vscode-notebook-cell:/c%3A/Users/anastasia/OneDrive/Documents/Kandidat/Bioinf_sem_3/Projekt/projectMST/class_experiment.ipynb#X16sZmlsZQ%3D%3D?line=9'>10</a>\u001b[0m \u001b[39mprint\u001b[39m(tree1_id)\n\u001b[0;32m     <a href='vscode-notebook-cell:/c%3A/Users/anastasia/OneDrive/Documents/Kandidat/Bioinf_sem_3/Projekt/projectMST/class_experiment.ipynb#X16sZmlsZQ%3D%3D?line=10'>11</a>\u001b[0m \u001b[39mprint\u001b[39m(tree2_id)\n\u001b[1;32m---> <a href='vscode-notebook-cell:/c%3A/Users/anastasia/OneDrive/Documents/Kandidat/Bioinf_sem_3/Projekt/projectMST/class_experiment.ipynb#X16sZmlsZQ%3D%3D?line=11'>12</a>\u001b[0m Tree\u001b[39m.\u001b[39;49mappend(tree1,tree2)\n",
      "\u001b[1;32mc:\\Users\\anastasia\\OneDrive\\Documents\\Kandidat\\Bioinf_sem_3\\Projekt\\projectMST\\class_experiment.ipynb Cell 9\u001b[0m in \u001b[0;36mTree.append\u001b[1;34m(cls, tree1, tree2)\u001b[0m\n\u001b[0;32m     <a href='vscode-notebook-cell:/c%3A/Users/anastasia/OneDrive/Documents/Kandidat/Bioinf_sem_3/Projekt/projectMST/class_experiment.ipynb#X16sZmlsZQ%3D%3D?line=11'>12</a>\u001b[0m     tree1\u001b[39m.\u001b[39mnext\u001b[39m=\u001b[39mtree2\n\u001b[0;32m     <a href='vscode-notebook-cell:/c%3A/Users/anastasia/OneDrive/Documents/Kandidat/Bioinf_sem_3/Projekt/projectMST/class_experiment.ipynb#X16sZmlsZQ%3D%3D?line=12'>13</a>\u001b[0m \u001b[39melse\u001b[39;00m:\n\u001b[1;32m---> <a href='vscode-notebook-cell:/c%3A/Users/anastasia/OneDrive/Documents/Kandidat/Bioinf_sem_3/Projekt/projectMST/class_experiment.ipynb#X16sZmlsZQ%3D%3D?line=13'>14</a>\u001b[0m     tree1\u001b[39m.\u001b[39mnext[\u001b[39m-\u001b[39m\u001b[39m1\u001b[39m]\u001b[39m=\u001b[39mtree2\n\u001b[0;32m     <a href='vscode-notebook-cell:/c%3A/Users/anastasia/OneDrive/Documents/Kandidat/Bioinf_sem_3/Projekt/projectMST/class_experiment.ipynb#X16sZmlsZQ%3D%3D?line=14'>15</a>\u001b[0m tree1\u001b[39m.\u001b[39mname \u001b[39m=\u001b[39m tree1\u001b[39m.\u001b[39mname \u001b[39m+\u001b[39m \u001b[39m\"\u001b[39m\u001b[39m,\u001b[39m\u001b[39m\"\u001b[39m \u001b[39m+\u001b[39m tree2\u001b[39m.\u001b[39mname\n\u001b[0;32m     <a href='vscode-notebook-cell:/c%3A/Users/anastasia/OneDrive/Documents/Kandidat/Bioinf_sem_3/Projekt/projectMST/class_experiment.ipynb#X16sZmlsZQ%3D%3D?line=15'>16</a>\u001b[0m tree1\u001b[39m.\u001b[39mcomponents \u001b[39m=\u001b[39m tree1\u001b[39m.\u001b[39mcomponents \u001b[39m+\u001b[39m tree2\u001b[39m.\u001b[39mcomponents\n",
      "\u001b[1;31mTypeError\u001b[0m: 'Tree' object does not support item assignment"
     ]
    }
   ],
   "source": [
    "trees=[]\n",
    "for item in names:\n",
    "    trees.append(Tree(item))\n",
    "for item,i in enumerate(E):\n",
    "    min0,min1,min2=E[0][0],E[0][1],E[0][2]\n",
    "    tree1_id= name_dict[min1]\n",
    "    tree2_id= name_dict[min2]\n",
    "    tree1=trees[tree1_id]\n",
    "    tree2=trees[tree2_id]\n",
    "    print(tree1_id)\n",
    "    print(tree2_id)\n",
    "    Tree.append(tree1,tree2)\n",
    "    #tree1=trees[\"min1\"]\n",
    "    #tree2=trees[\"min2\"]\n",
    "    #Tree.append(tree1,tree2)\n",
    "    \n",
    "    "
   ]
  },
  {
   "cell_type": "code",
   "execution_count": null,
   "metadata": {},
   "outputs": [],
   "source": []
  }
 ],
 "metadata": {
  "kernelspec": {
   "display_name": "Python 3",
   "language": "python",
   "name": "python3"
  },
  "language_info": {
   "codemirror_mode": {
    "name": "ipython",
    "version": 3
   },
   "file_extension": ".py",
   "mimetype": "text/x-python",
   "name": "python",
   "nbconvert_exporter": "python",
   "pygments_lexer": "ipython3",
   "version": "3.9.12"
  },
  "orig_nbformat": 4
 },
 "nbformat": 4,
 "nbformat_minor": 2
}
