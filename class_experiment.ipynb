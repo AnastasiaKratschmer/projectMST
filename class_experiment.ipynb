{
 "cells": [
  {
   "attachments": {},
   "cell_type": "markdown",
   "metadata": {},
   "source": [
    "Current problems:\n",
    "* When the join happens weirdly (I think it might be when something from one end of the list is joined with something from the other and, something is messed up, maybe something with the alphabetic order in the join that makes numbers in the names_dict weird....)"
   ]
  },
  {
   "cell_type": "code",
   "execution_count": 219,
   "metadata": {},
   "outputs": [],
   "source": [
    "import numpy as np\n",
    "import networkx as nx\n",
    "import matplotlib.pyplot as plt"
   ]
  },
  {
   "cell_type": "code",
   "execution_count": 284,
   "metadata": {},
   "outputs": [],
   "source": [
    "\n",
    "#ok, let's try with a class\n",
    "class Tree:\n",
    "    def __init__ (self,name):\n",
    "        self.name=name\n",
    "        self.next=[]\n",
    "        self.components=[self.name]\n",
    "    def __str__(self):\n",
    "        return f\"{self.name} {self.next}\"\n",
    "    def __repr__(self):\n",
    "        return f\"Tree(name='{self.name}', next={self.next})\"\n",
    "    @classmethod\n",
    "    def add(cls, tree1, tree2):\n",
    "        alphabet=sorted(tuple[tree1,tree2]) #this part was an attempt to solve problem mentioned above but that did not work\n",
    "        tree1=alphabet[0]\n",
    "        tree2=alphabet[1]\n",
    "        if not tree1.next:\n",
    "            tree1.next.append(tree2)\n",
    "        else:\n",
    "            tree1.next.append(tree2)\n",
    "        #tree1.name = tree1.name + \",\" + tree2.name\n",
    "        tree1.components = tree1.components + tree2.components\n",
    "        del tree2"
   ]
  },
  {
   "cell_type": "code",
   "execution_count": 285,
   "metadata": {},
   "outputs": [
    {
     "name": "stdout",
     "output_type": "stream",
     "text": [
      "[['' '19' 'a' 'b']\n",
      " ['' '2' 'b' 'c']\n",
      " ['' '2' 'd' 'c']\n",
      " ['' '4' 'd' 'b']\n",
      " ['' '7' 'd' 'a']\n",
      " ['' '44' 'b' 'e']\n",
      " ['' '14' 'f' 'g']\n",
      " ['' '3' 'g' 'a']]\n"
     ]
    }
   ],
   "source": [
    "matrixx=np.array([[\"\",int(19),\"a\",\"b\"],[\"\",int(2),\"b\",\"c\"],[\"\",int(2),\"d\",\"c\"],[\"\",int(4),\"d\",\"b\"],[\"\",int(7),\"d\",\"a\"],[\"\",44,\"b\",\"e\"],[\"\",int(14),\"f\",\"g\"],[\"\",int(3),\"g\",\"a\"]])\n",
    "print(matrixx)"
   ]
  },
  {
   "cell_type": "code",
   "execution_count": 286,
   "metadata": {},
   "outputs": [
    {
     "name": "stdout",
     "output_type": "stream",
     "text": [
      "[['' '2' 'b' 'c']\n",
      " ['' '2' 'd' 'c']\n",
      " ['' '3' 'g' 'a']\n",
      " ['' '4' 'd' 'b']\n",
      " ['' '7' 'd' 'a']\n",
      " ['' '14' 'f' 'g']\n",
      " ['' '19' 'a' 'b']\n",
      " ['' '44' 'b' 'e']]\n"
     ]
    }
   ],
   "source": [
    "#now to sorting the matrix\n",
    "sorted_indices = np.lexsort((matrixx[:, 1].astype(int),))\n",
    "E = matrixx[sorted_indices]\n",
    "print(E)"
   ]
  },
  {
   "cell_type": "code",
   "execution_count": 287,
   "metadata": {},
   "outputs": [
    {
     "name": "stdout",
     "output_type": "stream",
     "text": [
      "2 b c\n"
     ]
    }
   ],
   "source": [
    "min0,min1,min2=E[0][1],E[0][2],E[0][3] #extracting minmum path from the sorted matrix (E)\n",
    "print(min0,min1,min2)"
   ]
  },
  {
   "cell_type": "code",
   "execution_count": 288,
   "metadata": {},
   "outputs": [
    {
     "name": "stdout",
     "output_type": "stream",
     "text": [
      "['a' 'b' 'c' 'd' 'e' 'f' 'g']\n",
      "{'a': 0, 'b': 1, 'c': 2, 'd': 3, 'e': 4, 'f': 5, 'g': 6}\n",
      "\n",
      " \n",
      " new loop started\n",
      "iteration0\n",
      "dict, begin it0\n",
      "{'a': 0, 'b': 1, 'c': 2, 'd': 3, 'e': 4, 'f': 5, 'g': 6}\n",
      "trees, begin it0\n",
      "[Tree(name='a', next=[]), Tree(name='b', next=[]), Tree(name='c', next=[]), Tree(name='d', next=[]), Tree(name='e', next=[]), Tree(name='f', next=[]), Tree(name='g', next=[])]\n",
      "id tree1:\n",
      "1\n",
      "id tree 2:\n",
      "2\n"
     ]
    },
    {
     "ename": "TypeError",
     "evalue": "'types.GenericAlias' object is not iterable",
     "output_type": "error",
     "traceback": [
      "\u001b[1;31m---------------------------------------------------------------------------\u001b[0m",
      "\u001b[1;31mTypeError\u001b[0m                                 Traceback (most recent call last)",
      "\u001b[1;32mc:\\Users\\anastasia\\OneDrive\\Documents\\Kandidat\\Bioinf_sem_3\\Projekt\\projectMST\\class_experiment.ipynb Cell 7\u001b[0m in \u001b[0;36m<cell line: 10>\u001b[1;34m()\u001b[0m\n\u001b[0;32m     <a href='vscode-notebook-cell:/c%3A/Users/anastasia/OneDrive/Documents/Kandidat/Bioinf_sem_3/Projekt/projectMST/class_experiment.ipynb#X14sZmlsZQ%3D%3D?line=30'>31</a>\u001b[0m tree1\u001b[39m=\u001b[39mtrees[tree1_id] \u001b[39m#get the first tree\u001b[39;00m\n\u001b[0;32m     <a href='vscode-notebook-cell:/c%3A/Users/anastasia/OneDrive/Documents/Kandidat/Bioinf_sem_3/Projekt/projectMST/class_experiment.ipynb#X14sZmlsZQ%3D%3D?line=31'>32</a>\u001b[0m tree2\u001b[39m=\u001b[39mtrees[tree2_id] \u001b[39m#get he second tree\u001b[39;00m\n\u001b[1;32m---> <a href='vscode-notebook-cell:/c%3A/Users/anastasia/OneDrive/Documents/Kandidat/Bioinf_sem_3/Projekt/projectMST/class_experiment.ipynb#X14sZmlsZQ%3D%3D?line=32'>33</a>\u001b[0m Tree\u001b[39m.\u001b[39;49madd(tree1,tree2) \u001b[39m#merge the two trees, meaning that our tree-list gets shorter. PROBLEM THOUGH: the last it. does not fully merge right now----\u001b[39;00m\n\u001b[0;32m     <a href='vscode-notebook-cell:/c%3A/Users/anastasia/OneDrive/Documents/Kandidat/Bioinf_sem_3/Projekt/projectMST/class_experiment.ipynb#X14sZmlsZQ%3D%3D?line=33'>34</a>\u001b[0m trees\u001b[39m.\u001b[39mpop(tree2_id) \u001b[39m#remove the tree that we just merged into another tree\u001b[39;00m\n\u001b[0;32m     <a href='vscode-notebook-cell:/c%3A/Users/anastasia/OneDrive/Documents/Kandidat/Bioinf_sem_3/Projekt/projectMST/class_experiment.ipynb#X14sZmlsZQ%3D%3D?line=34'>35</a>\u001b[0m \u001b[39m#name_dict = {key: value if value <= tree1_id else tree1_id for key, value in name_dict.items()}\u001b[39;00m\n",
      "\u001b[1;32mc:\\Users\\anastasia\\OneDrive\\Documents\\Kandidat\\Bioinf_sem_3\\Projekt\\projectMST\\class_experiment.ipynb Cell 7\u001b[0m in \u001b[0;36mTree.add\u001b[1;34m(cls, tree1, tree2)\u001b[0m\n\u001b[0;32m     <a href='vscode-notebook-cell:/c%3A/Users/anastasia/OneDrive/Documents/Kandidat/Bioinf_sem_3/Projekt/projectMST/class_experiment.ipynb#X14sZmlsZQ%3D%3D?line=10'>11</a>\u001b[0m \u001b[39m@classmethod\u001b[39m\n\u001b[0;32m     <a href='vscode-notebook-cell:/c%3A/Users/anastasia/OneDrive/Documents/Kandidat/Bioinf_sem_3/Projekt/projectMST/class_experiment.ipynb#X14sZmlsZQ%3D%3D?line=11'>12</a>\u001b[0m \u001b[39mdef\u001b[39;00m \u001b[39madd\u001b[39m(\u001b[39mcls\u001b[39m, tree1, tree2):\n\u001b[1;32m---> <a href='vscode-notebook-cell:/c%3A/Users/anastasia/OneDrive/Documents/Kandidat/Bioinf_sem_3/Projekt/projectMST/class_experiment.ipynb#X14sZmlsZQ%3D%3D?line=12'>13</a>\u001b[0m     alphabet\u001b[39m=\u001b[39m\u001b[39msorted\u001b[39;49m(\u001b[39mtuple\u001b[39;49m[tree1,tree2])\n\u001b[0;32m     <a href='vscode-notebook-cell:/c%3A/Users/anastasia/OneDrive/Documents/Kandidat/Bioinf_sem_3/Projekt/projectMST/class_experiment.ipynb#X14sZmlsZQ%3D%3D?line=13'>14</a>\u001b[0m     tree1\u001b[39m=\u001b[39malphabet[\u001b[39m0\u001b[39m]\n\u001b[0;32m     <a href='vscode-notebook-cell:/c%3A/Users/anastasia/OneDrive/Documents/Kandidat/Bioinf_sem_3/Projekt/projectMST/class_experiment.ipynb#X14sZmlsZQ%3D%3D?line=14'>15</a>\u001b[0m     tree2\u001b[39m=\u001b[39malphabet[\u001b[39m1\u001b[39m]\n",
      "\u001b[1;31mTypeError\u001b[0m: 'types.GenericAlias' object is not iterable"
     ]
    }
   ],
   "source": [
    "names= np.unique(matrixx[:, 2:])\n",
    "print(names)\n",
    "name_dict= {letter:i for i, letter in enumerate(names)}\n",
    "print(name_dict)\n",
    "\n",
    "trees=[]\n",
    "for item in names:\n",
    "    trees.append(Tree(item))\n",
    "    x=0\n",
    "for i,item in enumerate(E):\n",
    "    while len(set(name_dict.values()))>1:\n",
    "        print(\"\\n \\n new loop started\")\n",
    "        print(\"iteration\"+str(x))\n",
    "        print(\"dict, begin it\"+str(x))\n",
    "        print(name_dict)\n",
    "        print(\"trees, begin it\"+str(x))\n",
    "        print(trees)\n",
    "        min0,min1,min2=E[x][1],E[x][2],E[x][3] #get the next line in the matrix to get the letters/names of the trees\n",
    "        tree1_id= name_dict[min1] #getting the positions of the letters in the current list of trees\n",
    "        tree2_id= name_dict[min2]\n",
    "        if tree2_id==tree1_id:\n",
    "            print(\"i entered the break place with\"+ str(tree1_id)+\"and\"+str(tree2_id))\n",
    "            x+=1\n",
    "            break\n",
    "        else:\n",
    "            E[x][0]=\"*\"\n",
    "            print(\"id tree1:\")\n",
    "            print(tree1_id)\n",
    "            print(\"id tree 2:\")\n",
    "            print(tree2_id)\n",
    "            tree1=trees[tree1_id] #get the first tree\n",
    "            tree2=trees[tree2_id] #get he second tree\n",
    "            Tree.add(tree1,tree2) #merge the two trees, meaning that our tree-list gets shorter. PROBLEM THOUGH: the last it. does not fully merge right now----\n",
    "            trees.pop(tree2_id) #remove the tree that we just merged into another tree\n",
    "            #name_dict = {key: value if value <= tree1_id else tree1_id for key, value in name_dict.items()}\n",
    "            if tree1_id<tree2_id:\n",
    "                name_dict[min2]=tree1_id # update the number associated with the letter/treee in the dictionary\n",
    "                name_dict = {key: (value - 1) if value > tree1_id else value for key, value in name_dict.items()}\n",
    "            else:\n",
    "                name_dict[min1]=tree2_id # update the number associated with the letter/treee in the dictionary\n",
    "                name_dict = {key: (value - 1) if value > tree2_id else value for key, value in name_dict.items()}\n",
    "            print(\"trees and dict after it.\"+str(x)+\":\")\n",
    "            print(trees)\n",
    "            print(name_dict)\n",
    "            print(E)\n",
    "            x+=1\n",
    "res_mat=E\n",
    "            "
   ]
  },
  {
   "cell_type": "code",
   "execution_count": 289,
   "metadata": {},
   "outputs": [
    {
     "name": "stdout",
     "output_type": "stream",
     "text": [
      "[['*' '2' 'b' 'c']\n",
      " ['*' '2' 'd' 'c']\n",
      " ['*' '3' 'g' 'a']\n",
      " ['' '4' 'd' 'b']\n",
      " ['' '7' 'd' 'a']\n",
      " ['*' '14' 'f' 'g']\n",
      " ['' '19' 'a' 'b']\n",
      " ['' '44' 'b' 'e']]\n",
      "[('b', 'c', {'weight': 2}), ('d', 'c', {'weight': 2}), ('g', 'a', {'weight': 3}), ('d', 'b', {'weight': 4}), ('d', 'a', {'weight': 7}), ('f', 'g', {'weight': 14}), ('a', 'b', {'weight': 19}), ('b', 'e', {'weight': 44})]\n",
      "[('b', 'c'), ('c', 'd'), ('a', 'g'), ('f', 'g')]\n",
      "[('a', 'g'), ('b', 'c'), ('c', 'd'), ('f', 'g')]\n"
     ]
    }
   ],
   "source": [
    "#ok, now it could be really funny to see if I can draw the result!! #I start with my result from before.\n",
    "print(res_mat)\n",
    "edges=[]\n",
    "\n",
    "for row in res_mat:\n",
    "    weight = int(row[1])  # Extract the weight from the second column\n",
    "    node1 = row[2]  # Extract the first node from the third column\n",
    "    node2 = row[3]  # Extract the second node from the fourth column\n",
    "    edges.append((node1, node2, {'weight': weight}))  # Add the tuple to the list\n",
    "\n",
    "print(edges)\n",
    "\n",
    "edges_in_min_path=[]\n",
    "\n",
    "for row in res_mat:\n",
    "    if row[0]==\"*\":  # Extract the weight from the second column\n",
    "        node1 = row[2]  # Extract the first node from the third column\n",
    "        node2 = row[3]  # Extract the second node from the fourth column\n",
    "        edge=tuple(sorted([node1,node2]))\n",
    "        edges_in_min_path.append(edge) # Add the tuple to the list\n",
    "\n",
    "print(edges_in_min_path)\n",
    "edges_in_min_path.sort()\n",
    "print(edges_in_min_path)"
   ]
  },
  {
   "cell_type": "code",
   "execution_count": 291,
   "metadata": {},
   "outputs": [
    {
     "name": "stdout",
     "output_type": "stream",
     "text": [
      "['a', 'b', 'c', 'd', 'e', 'f', 'g']\n",
      "[('a', 'g'), ('a', 'd'), ('a', 'b'), ('b', 'c'), ('b', 'd'), ('b', 'e'), ('c', 'd'), ('f', 'g')]\n",
      "[('a', 'g'), ('b', 'c'), ('c', 'd'), ('f', 'g')]\n"
     ]
    },
    {
     "data": {
      "image/png": "[encoded data removed]",
      "text/plain": [
       "<Figure size 432x288 with 1 Axes>"
      ]
     },
     "metadata": {},
     "output_type": "display_data"
    },
    {
     "name": "stdout",
     "output_type": "stream",
     "text": [
      "[('a', 'g'), ('b', 'c'), ('c', 'd'), ('f', 'g')]\n"
     ]
    }
   ],
   "source": [
    "import networkx as nx\n",
    "import matplotlib.pyplot as plt\n",
    "G = nx.Graph()\n",
    "G.add_nodes_from(np.unique(E[:, 2:]))\n",
    "G.add_edges_from(edges)\n",
    "shortest_path=edges_in_min_path\n",
    "\n",
    "print(G.nodes)\n",
    "print(G.edges)\n",
    "print(shortest_path)\n",
    "\n",
    "pos = nx.spring_layout(G)\n",
    "edge_colors = ['red' if e in shortest_path else 'black' for e in G.edges()] #\n",
    "nx.draw(G, pos, with_labels=True, node_color='lightblue', edge_color=edge_colors, width=2, font_size=10)\n",
    "\n",
    "# Show the plot\n",
    "plt.show() #ummmm it's not coloring the d-b-path... which is strange!!! but otherwise pretty cool\n",
    "\n",
    "print(edges_in_min_path)"
   ]
  }
 ],
 "metadata": {
  "kernelspec": {
   "display_name": "Python 3",
   "language": "python",
   "name": "python3"
  },
  "language_info": {
   "codemirror_mode": {
    "name": "ipython",
    "version": 3
   },
   "file_extension": ".py",
   "mimetype": "text/x-python",
   "name": "python",
   "nbconvert_exporter": "python",
   "pygments_lexer": "ipython3",
   "version": "3.9.12"
  },
  "orig_nbformat": 4
 },
 "nbformat": 4,
 "nbformat_minor": 2
}
