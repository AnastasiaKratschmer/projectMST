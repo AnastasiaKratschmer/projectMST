{
 "cells": [
  {
   "cell_type": "code",
   "execution_count": 1,
   "metadata": {},
   "outputs": [],
   "source": [
    "import numpy as np"
   ]
  },
  {
   "cell_type": "code",
   "execution_count": 163,
   "metadata": {},
   "outputs": [],
   "source": [
    "\n",
    "#ok, let's try with a class\n",
    "class Tree:\n",
    "    def __init__ (self,name):\n",
    "        self.name=name\n",
    "        self.next=[]\n",
    "        self.components=[self.name]\n",
    "    def __str__(self):\n",
    "        return f\"{self.name} {self.next}\"\n",
    "    def __repr__(self):\n",
    "        return f\"Tree(name='{self.name}', next={self.next})\"\n",
    "    @classmethod\n",
    "    def add(cls, tree1, tree2):\n",
    "        if not tree1.next:\n",
    "            tree1.next.append(tree2)\n",
    "        else:\n",
    "            tree1.next = tree1.next + [tree2]\n",
    "        #tree1.name = tree1.name + \",\" + tree2.name\n",
    "        tree1.components = tree1.components + tree2.components\n",
    "        del tree2"
   ]
  },
  {
   "cell_type": "code",
   "execution_count": 73,
   "metadata": {},
   "outputs": [
    {
     "name": "stdout",
     "output_type": "stream",
     "text": [
      "[['' 'a' 'b' 'c' 'd']\n",
      " ['a' 'inf' '2.8' '5.6' '8.4']\n",
      " ['b' '2.8' 'inf' '2.8' '5.6']\n",
      " ['c' '5.6' '2.8' 'inf' '2.8']\n",
      " ['d' '8.4' '5.6' '2.8' 'inf']]\n"
     ]
    }
   ],
   "source": [
    "matrix = np.array([[\"\",\"a\",\"b\",\"c\",\"d\"],\n",
    "                    [\"a\",float('inf'), 2.8, 5.6, 8.4],\n",
    "                      [\"b\",2.8, float('inf'), 2.8, 5.6],\n",
    "                      [\"c\",5.6, 2.8, float('inf'), 2.8],\n",
    "                      [\"d\",8.4, 5.6, 2.8, float('inf')]])\n",
    "print(matrix)"
   ]
  },
  {
   "cell_type": "code",
   "execution_count": 74,
   "metadata": {},
   "outputs": [
    {
     "name": "stdout",
     "output_type": "stream",
     "text": [
      "[['19' 'a' 'b']\n",
      " ['2' 'b' 'c']\n",
      " ['2' 'd' 'c']\n",
      " ['4' 'd' 'b']\n",
      " ['7' 'd' 'a']]\n"
     ]
    }
   ],
   "source": [
    "matrixx=np.array([[int(19),\"a\",\"b\"],[int(2),\"b\",\"c\"],[int(2),\"d\",\"c\"],[int(4),\"d\",\"b\"],[int(7),\"d\",\"a\"]])\n",
    "print(matrixx)"
   ]
  },
  {
   "cell_type": "code",
   "execution_count": 98,
   "metadata": {},
   "outputs": [
    {
     "name": "stdout",
     "output_type": "stream",
     "text": [
      "['a', 'b', 'c', 'd']\n",
      "{'a': 0, 'b': 1, 'c': 2, 'd': 3}\n"
     ]
    }
   ],
   "source": [
    "names=[item[0] for item in matrix][1:]\n",
    "print(names)\n",
    "\n",
    "name_dict=my_dict = {letter:i for i, letter in enumerate(names)}\n",
    "\n",
    "print(name_dict)\n"
   ]
  },
  {
   "cell_type": "code",
   "execution_count": 76,
   "metadata": {},
   "outputs": [
    {
     "name": "stdout",
     "output_type": "stream",
     "text": [
      "[Tree(name='a', next=[]), Tree(name='b', next=[]), Tree(name='c', next=[]), Tree(name='d', next=[])]\n",
      "a []\n",
      "b []\n",
      "c []\n",
      "d []\n"
     ]
    }
   ],
   "source": [
    "trees=[]\n",
    "for item in names:\n",
    "    trees.append(Tree(item))\n",
    "print(trees) #extremely unelegant output, but it seems to kinda work\n",
    "print(trees[0])\n",
    "print(trees[1])\n",
    "print(trees[2])\n",
    "print(trees[3])\n",
    "\n",
    "\n",
    "\n"
   ]
  },
  {
   "cell_type": "code",
   "execution_count": 77,
   "metadata": {},
   "outputs": [
    {
     "name": "stdout",
     "output_type": "stream",
     "text": [
      "[['2' 'b' 'c']\n",
      " ['2' 'd' 'c']\n",
      " ['4' 'd' 'b']\n",
      " ['7' 'd' 'a']\n",
      " ['19' 'a' 'b']]\n"
     ]
    }
   ],
   "source": [
    "#now to sorting the matrix\n",
    "sorted_indices = np.lexsort((matrixx[:, 0].astype(int),))\n",
    "E = matrixx[sorted_indices]\n",
    "print(E)"
   ]
  },
  {
   "cell_type": "code",
   "execution_count": 78,
   "metadata": {},
   "outputs": [
    {
     "name": "stdout",
     "output_type": "stream",
     "text": [
      "2 b c\n"
     ]
    }
   ],
   "source": [
    "min0,min1,min2=E[0][0],E[0][1],E[0][2] #extracting minmum path from the sorted matrix (E)\n",
    "print(min0,min1,min2)"
   ]
  },
  {
   "cell_type": "code",
   "execution_count": 164,
   "metadata": {},
   "outputs": [
    {
     "name": "stdout",
     "output_type": "stream",
     "text": [
      "{'a': 0, 'b': 1, 'c': 2, 'd': 3}\n",
      "\n",
      " \n",
      " new loop started\n",
      "iteration0\n",
      "dict, begin it0\n",
      "{'a': 0, 'b': 1, 'c': 2, 'd': 3}\n",
      "trees, begin it0\n",
      "[Tree(name='a', next=[]), Tree(name='b', next=[]), Tree(name='c', next=[]), Tree(name='d', next=[])]\n",
      "id tree1:\n",
      "1\n",
      "id tree 2:\n",
      "2\n",
      "trees and dict after it.0:\n",
      "[Tree(name='a', next=[]), Tree(name='b', next=[Tree(name='c', next=[])]), Tree(name='d', next=[])]\n",
      "{'a': 0, 'b': 1, 'c': 1, 'd': 2}\n",
      "\n",
      " \n",
      " new loop started\n",
      "iteration1\n",
      "dict, begin it1\n",
      "{'a': 0, 'b': 1, 'c': 1, 'd': 2}\n",
      "trees, begin it1\n",
      "[Tree(name='a', next=[]), Tree(name='b', next=[Tree(name='c', next=[])]), Tree(name='d', next=[])]\n",
      "id tree1:\n",
      "2\n",
      "id tree 2:\n",
      "1\n",
      "trees and dict after it.1:\n",
      "[Tree(name='a', next=[]), Tree(name='d', next=[Tree(name='b', next=[Tree(name='c', next=[])])])]\n",
      "{'a': 0, 'b': 1, 'c': 1, 'd': 1}\n",
      "\n",
      " \n",
      " new loop started\n",
      "iteration2\n",
      "dict, begin it2\n",
      "{'a': 0, 'b': 1, 'c': 1, 'd': 1}\n",
      "trees, begin it2\n",
      "[Tree(name='a', next=[]), Tree(name='d', next=[Tree(name='b', next=[Tree(name='c', next=[])])])]\n",
      "i entered te break place with1and1\n",
      "\n",
      " \n",
      " new loop started\n",
      "iteration3\n",
      "dict, begin it3\n",
      "{'a': 0, 'b': 1, 'c': 1, 'd': 1}\n",
      "trees, begin it3\n",
      "[Tree(name='a', next=[]), Tree(name='d', next=[Tree(name='b', next=[Tree(name='c', next=[])])])]\n",
      "id tree1:\n",
      "1\n",
      "id tree 2:\n",
      "0\n",
      "trees and dict after it.3:\n",
      "[Tree(name='d', next=[Tree(name='b', next=[Tree(name='c', next=[])]), Tree(name='a', next=[])])]\n",
      "{'a': 0, 'b': 0, 'c': 0, 'd': 0}\n"
     ]
    }
   ],
   "source": [
    "names=[item[0] for item in matrix][1:]\n",
    "name_dict= {letter:i for i, letter in enumerate(names)}\n",
    "print(name_dict)\n",
    "\n",
    "trees=[]\n",
    "for item in names:\n",
    "    trees.append(Tree(item))\n",
    "    x=0\n",
    "break_now=False\n",
    "for i,item in enumerate(E):\n",
    "    while len(set(name_dict.values()))>1:\n",
    "        print(\"\\n \\n new loop started\")\n",
    "        print(\"iteration\"+str(x))\n",
    "        print(\"dict, begin it\"+str(x))\n",
    "        print(name_dict)\n",
    "        print(\"trees, begin it\"+str(x))\n",
    "        print(trees)\n",
    "        min0,min1,min2=E[x][0],E[x][1],E[x][2] #get the next line in the matrix to get the letters/names of the trees\n",
    "        tree1_id= name_dict[min1] #getting the positions of the letters in the current list of trees\n",
    "        tree2_id= name_dict[min2]\n",
    "        if tree2_id==tree1_id:\n",
    "            #break_now=True\n",
    "            print(\"i entered te break place with\"+ str(tree1_id)+\"and\"+str(tree2_id))\n",
    "            x+=1\n",
    "            break\n",
    "        else:\n",
    "            print(\"id tree1:\")\n",
    "            print(tree1_id)\n",
    "            print(\"id tree 2:\")\n",
    "            print(tree2_id)\n",
    "            tree1=trees[tree1_id] #get the first tree\n",
    "            tree2=trees[tree2_id] #get he second tree\n",
    "            Tree.add(tree1,tree2) #merge the two trees, meaning that our tree-list gets shorter. PROBLEM THOUGH: the last it. does not fully merge right now----\n",
    "            trees.pop(tree2_id) #remove the tree that we just merged into another tree\n",
    "            #name_dict = {key: value if value <= tree1_id else tree1_id for key, value in name_dict.items()}\n",
    "            if tree1_id<tree2_id:\n",
    "                name_dict[min2]=tree1_id # update the number associated with the letter/treee in the dictionary\n",
    "                name_dict = {key: (value - 1) if value > tree1_id else value for key, value in name_dict.items()}\n",
    "            else:\n",
    "                name_dict[min1]=tree2_id # update the number associated with the letter/treee in the dictionary\n",
    "                name_dict = {key: (value - 1) if value > tree2_id else value for key, value in name_dict.items()}\n",
    "            print(\"trees and dict after it.\"+str(x)+\":\")\n",
    "            print(trees)\n",
    "            print(name_dict)\n",
    "            x+=1"
   ]
  }
 ],
 "metadata": {
  "kernelspec": {
   "display_name": "Python 3",
   "language": "python",
   "name": "python3"
  },
  "language_info": {
   "codemirror_mode": {
    "name": "ipython",
    "version": 3
   },
   "file_extension": ".py",
   "mimetype": "text/x-python",
   "name": "python",
   "nbconvert_exporter": "python",
   "pygments_lexer": "ipython3",
   "version": "3.9.12"
  },
  "orig_nbformat": 4
 },
 "nbformat": 4,
 "nbformat_minor": 2
}
