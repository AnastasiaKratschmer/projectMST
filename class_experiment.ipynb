{
 "cells": [
  {
   "cell_type": "code",
   "execution_count": 1,
   "metadata": {},
   "outputs": [],
   "source": [
    "import numpy as np"
   ]
  },
  {
   "cell_type": "code",
   "execution_count": 54,
   "metadata": {},
   "outputs": [],
   "source": [
    "\n",
    "#ok, let's try with a class\n",
    "class Tree:\n",
    "    def __init__ (self,name):\n",
    "        self.name=name\n",
    "        self.next=np.nan\n",
    "    def __str__(self,name) -> str:\n",
    "        print(self.name,self.next)\n",
    "        "
   ]
  },
  {
   "cell_type": "code",
   "execution_count": 28,
   "metadata": {},
   "outputs": [
    {
     "name": "stdout",
     "output_type": "stream",
     "text": [
      "[['' 'a' 'b' 'c' 'd']\n",
      " ['a' 'inf' '2.82842712' '5.65685425' '8.48528137']\n",
      " ['b' '2.82842712' 'inf' '2.82842712' '5.65685425']\n",
      " ['c' '5.65685425' '2.82842712' 'inf' '2.82842712']\n",
      " ['d' '8.48528137' '5.65685425' '2.82842712' 'inf']]\n"
     ]
    }
   ],
   "source": [
    "matrix = np.array([[\"\",\"a\",\"b\",\"c\",\"d\"],\n",
    "                    [\"a\",float('inf'), 2.82842712, 5.65685425, 8.48528137],\n",
    "                      [\"b\",2.82842712, float('inf'), 2.82842712, 5.65685425],\n",
    "                      [\"c\",5.65685425, 2.82842712, float('inf'), 2.82842712],\n",
    "                      [\"d\",8.48528137, 5.65685425, 2.82842712, float('inf')]])\n",
    "print(matrix)"
   ]
  },
  {
   "cell_type": "code",
   "execution_count": 50,
   "metadata": {},
   "outputs": [
    {
     "name": "stdout",
     "output_type": "stream",
     "text": [
      "['a', 'b', 'c', 'd']\n"
     ]
    }
   ],
   "source": [
    "names=[item[0] for item in matrix][1:]\n",
    "print(names)\n"
   ]
  },
  {
   "cell_type": "code",
   "execution_count": 55,
   "metadata": {},
   "outputs": [
    {
     "name": "stdout",
     "output_type": "stream",
     "text": [
      "a\n"
     ]
    }
   ],
   "source": [
    "for item in names:\n",
    "    Tree(item)\n",
    "print(\"a\") #im in doubt about whether is does in fact print the \"next\" as well. make it at some point."
   ]
  },
  {
   "cell_type": "code",
   "execution_count": null,
   "metadata": {},
   "outputs": [],
   "source": []
  }
 ],
 "metadata": {
  "kernelspec": {
   "display_name": "Python 3",
   "language": "python",
   "name": "python3"
  },
  "language_info": {
   "codemirror_mode": {
    "name": "ipython",
    "version": 3
   },
   "file_extension": ".py",
   "mimetype": "text/x-python",
   "name": "python",
   "nbconvert_exporter": "python",
   "pygments_lexer": "ipython3",
   "version": "3.9.12"
  },
  "orig_nbformat": 4
 },
 "nbformat": 4,
 "nbformat_minor": 2
}
