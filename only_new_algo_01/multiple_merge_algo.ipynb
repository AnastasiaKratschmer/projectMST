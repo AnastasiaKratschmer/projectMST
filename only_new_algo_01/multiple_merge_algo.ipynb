{
 "cells": [
  {
   "cell_type": "code",
   "execution_count": 1,
   "metadata": {},
   "outputs": [],
   "source": [
    "import random as random\n",
    "import Bio\n",
    "import numpy as np\n",
    "import sys\n",
    "import os\n",
    "import networkx as nx\n",
    "import random as random\n",
    "from tqdm import tqdm # loading bar\n",
    "from utils_copy import linear_C, get_cost_2, get_sequence_string, parse_fasta_multiple, create_score_matrix, write_alignments_to_file, linear_backtrack, fill_graph,new_sp_approxi_combi\n",
    "from utils_copy import convert_to_desired_format_nr_version, compute_cost, my_traversal_simply, extend_alignment_chaos, find_min_span_edges_testing, parse_fasta_multiple_remove_n\n",
    "import timeit\n",
    "from utils_copy import al_integrity_testt\n",
    "from old_for_testing.sp_approx import sp_approx\n",
    "from old_for_testing.utils import *\n",
    "\n",
    "\n",
    "score_matrix={'a': {'a': 0, 'c': 5, 'g': 2, 't': 5}, 'c': {'a': 5, 'c': 0, 'g': 5, 't': 2}, 'g': {'a': 2, 'c': 5, 'g': 0, 't': 5}, 't': {'a': 5, 'c': 2, 'g': 5, 't': 0}}\n",
    "gap_cost=5"
   ]
  },
  {
   "cell_type": "code",
   "execution_count": 2,
   "metadata": {},
   "outputs": [],
   "source": [
    "def extend_alignment_chaos_multiple(M,str1_nr,A,index_dict,MSA_of_str2, verbose=False): #needs inclusion of str1_nr, to come from the outside.... str1_nr is the name \"predecessor\" string  \n",
    "    MA = []\n",
    "    i = 0\n",
    "    j = 0\n",
    "    col_in_M_of_parent_string=int(index_dict[str1_nr]) #getting the column from the index dict that holds the \"predecessor\" string, to know where it is in the MSA\n",
    "    while i < len(M) and j < len(A):\n",
    "        if verbose: print(\"i:\"+str(i)+\", j:\"+str(j))\n",
    "        if verbose: print(\"parent string nr: \"+ str(str1_nr))\n",
    "        if verbose: print(\"which is in col:\"+str(col_in_M_of_parent_string))\n",
    "        if verbose: print(\"I compare \"+ str(M[i][col_in_M_of_parent_string])+\" and \"+str(A[j][0]))\n",
    "        # Case 1:\n",
    "        if M[i][col_in_M_of_parent_string] == '-' and A[j][0] == '-':\n",
    "            if verbose: print(\"I go to case 1 (two gaps)\")\n",
    "            #M[i].append(A[j][1])\n",
    "            M[i].append(MSA_of_str2[j])#just append the whole damn column!\n",
    "            MA.append(M[i])\n",
    "            if verbose: print(\"Now MA is this: \\n \"+ str(MA))\n",
    "            i = i + 1\n",
    "            j = j + 1\n",
    "\n",
    "        # Case 2\n",
    "        elif M[i][col_in_M_of_parent_string] == '-' and A[j][0] != '-':\n",
    "            if verbose:print(\"I go to case 2 (gap,char)\")\n",
    "            for char in MSA_of_str2[0]:#append as many gaps as you there are chars (cols) in MSA of str2\n",
    "                M[i].append('-')\n",
    "                MA.append(M[i])\n",
    "            if verbose: print(\"Now MA is this: \\n \"+ str(MA))\n",
    "            i = i + 1\n",
    "        \n",
    "        # Case 3:\n",
    "        elif M[i][col_in_M_of_parent_string] != '-' and A[j][0] == '-':\n",
    "            if verbose:print(\"I go to case 3 (char, gap)\")\n",
    "            c = ['-']*len(M[i])\n",
    "            c.append(MSA_of_str2[j])\n",
    "            MA.append(c)\n",
    "            if verbose: print(\"Now MA is this: \\n \"+ str(MA))\n",
    "            j = j + 1\n",
    "        \n",
    "        # Case 4:\n",
    "        elif M[i][col_in_M_of_parent_string] != '-' and A[j][0] != '-':\n",
    "            if verbose: \n",
    "                print(\"I go to case 4 (char, char)\")\n",
    "            M[i].append(MSA_of_str2[j]) #just put the whole damn col/row from the MSA of str2\n",
    "            MA.append(M[i])\n",
    "            if verbose: print(\"Now MA is this: \\n \"+ str(MA))\n",
    "            i = i + 1\n",
    "            j = j + 1\n",
    "    #when one of the strings has ended, put in gaps, till the other ends as well. \n",
    "    if i < len(M):\n",
    "        while i < len(M):\n",
    "            for char in MSA_of_str2[0]:\n",
    "                M[i].append('-')\n",
    "                MA.append(M[i])\n",
    "            i = i + 1\n",
    "            \n",
    "    if j < len(A):\n",
    "        k = len(M[col_in_M_of_parent_string])\n",
    "        while j < len(A):\n",
    "            c = ['-']*(k-1)\n",
    "            c.append(MSA_of_str2[j])\n",
    "            MA.append(c)\n",
    "            j = j + 1\n",
    "    return MA\n"
   ]
  },
  {
   "cell_type": "code",
   "execution_count": 3,
   "metadata": {},
   "outputs": [],
   "source": [
    "test_res_mat=np.array([['*', '1', '0', '1'], ['*', '2', '0', '2'],['','3','0','2'], ['', '3', '1', '2']])"
   ]
  },
  {
   "cell_type": "code",
   "execution_count": 4,
   "metadata": {},
   "outputs": [],
   "source": [
    "def orchestrate_merge(res_matrix, seqs,score_matrix,gapcost,verbose=False): #should also include seqs,score_matrix,gap_cost, verbose=False)\n",
    "    in_which_MSA_is_it={}\n",
    "    names= np.unique(res_matrix[:, 2:])\n",
    "    in_which_MSA_is_it ={name: [int(name),0] for name in names}\n",
    "    MSA_list=[[*seq] for seq in seqs] #initalizing it as every string in their own alignment with nobody else :) \n",
    "    print(in_which_MSA_is_it)\n",
    "    for row in res_matrix:\n",
    "        if row[0]==\"*\":\n",
    "            node1 = row[2]  # Extract the first node\n",
    "            node2 = row[3]  # Extract the second node\n",
    "            cost=linear_C(gap_cost,score_matrix,seqs[node1],seqs[node2]) #doing the alignment of the two strings :) \n",
    "            alignment1_str,alignment2_str=linear_backtrack(seqs[int(node1)], seqs[int(node2)], cost, score_matrix, gap_cost,verbose=verbose)\n",
    "            alignment1, alignment2 = [*alignment1_str], [*alignment2_str]\n",
    "            A = [list(e) for e in zip(alignment1,alignment2)] #the 'guide' (pairwise alignment) in this iteration!\n",
    "            #where are these two sequences now? get the MSA and their position in that MSA!\n",
    "            which_MSA_node1=in_which_MSA_is_it[node1][0]\n",
    "            which_pos_in_MSA_node1=in_which_MSA_is_it[node1][1]\n",
    "            which_MSA_node2=in_which_MSA_is_it[node2][0]\n",
    "            which_pos_in_MSA_node2=in_which_MSA_is_it[node2][1]\n",
    "            current_MSA_node1=MSA_list[which_MSA_node1][which_pos_in_MSA_node1] #how is the current MSA of node 1 looking??\n",
    "            current_MSA_node2=MSA_list[which_MSA_node2][which_pos_in_MSA_node2] #how is the current MSA of node 1 looking??\n",
    "            #now we should compare the A (pairwise alignment) to the current alignment\n",
    "         \n",
    "\n",
    "\n",
    "\n",
    "\n",
    "\n",
    "#merge_actually() #TODO: #um actually make this lollll\n",
    "\n",
    "\n"
   ]
  },
  {
   "cell_type": "code",
   "execution_count": 5,
   "metadata": {},
   "outputs": [
    {
     "name": "stdout",
     "output_type": "stream",
     "text": [
      "['0' '1' '2']\n",
      "{'0': [0, 0], '1': [1, 0], '2': [2, 0]}\n",
      "[['a', 'g', 'c', 't'], ['c', 't', 'g', 'g'], ['g', 't', 'a', 'c', 'c', 'c', 'a', 'c', 'a', 'c', 'a']]\n"
     ]
    }
   ],
   "source": [
    "names=np.unique(test_res_mat[:, 2:])\n",
    "print(names)\n",
    "#in_which_MSA_is_itt = {name:[int(name):0 for i, name in enumerate(names)]}\n",
    "in_which_MSA_is_itt = {name: [int(name),0] for name in names}\n",
    "print(in_which_MSA_is_itt)\n",
    "\n",
    "seqss=['agct','ctgg','gtacccacaca']\n",
    "MSA_list=[[*seq] for seq in seqss]\n",
    "print(MSA_list)\n"
   ]
  },
  {
   "cell_type": "code",
   "execution_count": 7,
   "metadata": {},
   "outputs": [
    {
     "name": "stdout",
     "output_type": "stream",
     "text": [
      "{'0': [0, 0], '1': [1, 0], '2': [2, 0]}\n"
     ]
    }
   ],
   "source": [
    "def make_MSA_position_overview_dict(res_matrix):#initializes the overview dictionary\n",
    "    in_which_MSA_is_it={}\n",
    "    names= np.unique(res_matrix[:, 2:])\n",
    "    in_which_MSA_is_it ={name: [int(name),0] for name in names}\n",
    "    print(in_which_MSA_is_it)\n",
    "\n",
    "make_MSA_position_overview_dict(test_res_mat)"
   ]
  },
  {
   "cell_type": "code",
   "execution_count": 8,
   "metadata": {},
   "outputs": [],
   "source": [
    "def find_highest_second_element(d, first_element): #to find the highest col nr already in the MSA\n",
    "    highest_second_element = 0\n",
    "    for key, value in d.items():\n",
    "        if value[0] == first_element:\n",
    "            second_element = value[1]\n",
    "            if second_element > highest_second_element:\n",
    "                highest_second_element = second_element\n",
    "    return highest_second_element"
   ]
  },
  {
   "cell_type": "code",
   "execution_count": 102,
   "metadata": {},
   "outputs": [
    {
     "name": "stdout",
     "output_type": "stream",
     "text": [
      "1 2\n"
     ]
    },
    {
     "data": {
      "text/plain": [
       "{'0': [0, 0], '1': [1, 0], '2': [1, 2]}"
      ]
     },
     "execution_count": 102,
     "metadata": {},
     "output_type": "execute_result"
    }
   ],
   "source": [
    "def update_MSA_position_overview_dict(MSA_position_overview_dict,node1,node2): #may be somehow inadequate!\n",
    "    print(node1,node2)\n",
    "    node1_origin_MSA=MSA_position_overview_dict[node1][0]\n",
    "    node2_origin_MSA=MSA_position_overview_dict[node2][0]\n",
    "    node1_origin_MSA_col=MSA_position_overview_dict[node1][1]\n",
    "    node2_origin_col=MSA_position_overview_dict[node2][1]\n",
    "    #now I have the original positions in from the position overview dict!\n",
    "    nr_we_got_to=find_highest_second_element(MSA_position_overview_dict,MSA_position_overview_dict[node1])+1\n",
    "    MSA_position_overview_dict[node2]=[node1_origin_MSA,(nr_we_got_to+1)] #update the pos_dict to show that node2 changed MSA and make the col one bigger than the max\n",
    "    return MSA_position_overview_dict\n",
    "\n",
    "overview={'0': [0, 0], '1': [1, 0], '2': [2, 0]}\n",
    "update_MSA_position_overview_dict(overview,'1','2')"
   ]
  },
  {
   "cell_type": "code",
   "execution_count": 139,
   "metadata": {},
   "outputs": [
    {
     "data": {
      "text/plain": [
       "2"
      ]
     },
     "execution_count": 139,
     "metadata": {},
     "output_type": "execute_result"
    }
   ],
   "source": [
    "def get_MSA_pos(MSA_position_overview_dict, node):\n",
    "    value=MSA_position_overview_dict[node]\n",
    "    MSA_pos=value[0]\n",
    "    MSA_pos_col=value[1]\n",
    "    return MSA_pos,MSA_pos_col\n",
    "\n",
    "get_MSA_pos(overview,'2')[0]"
   ]
  },
  {
   "cell_type": "code",
   "execution_count": 148,
   "metadata": {},
   "outputs": [
    {
     "name": "stdout",
     "output_type": "stream",
     "text": [
      "i and j are: 1 and 1\n",
      "Case: 3\n"
     ]
    },
    {
     "data": {
      "text/plain": [
       "3"
      ]
     },
     "execution_count": 148,
     "metadata": {},
     "output_type": "execute_result"
    }
   ],
   "source": [
    "def identify_merge_case(guide_PA,MSA1,node1,MSA_position_overview_dict,i,j): \n",
    "    case=None\n",
    "    #node1_col=get_MSA_pos(MSA_position_overview_dict,node1)[1]\n",
    "    node1_position=MSA_position_overview_dict[node1]\n",
    "    node1_col=node1_position[1]\n",
    "    print(\"i and j are: \"+str(i)+\" and \"+str(j))\n",
    "    if guide_PA[i][0]=='-' and MSA1[j][int(node1_col)]=='-':\n",
    "        case=1\n",
    "    elif guide_PA[i][0]!='-' and MSA1[j][int(node1_col)]=='-':\n",
    "        case=2\n",
    "    elif guide_PA[i][0]=='-' and MSA1[j][int(node1_col)]!='-':\n",
    "        case=3\n",
    "    elif guide_PA[i][0]!='-' and MSA1[j][int(node1_col)]!='-':\n",
    "        case=4\n",
    "    print(\"Case: \"+str(case))\n",
    "    return case\n",
    "\n",
    "fake_MSA1=[['-','a'],['a','g']]\n",
    "fake_guide_PA=[['-','c'],['-','g']]\n",
    "\n",
    "identify_merge_case(fake_guide_PA,fake_MSA1,'0',overview,1,1) #sounds about right!!"
   ]
  },
  {
   "cell_type": "code",
   "execution_count": 149,
   "metadata": {},
   "outputs": [
    {
     "name": "stdout",
     "output_type": "stream",
     "text": [
      "i and j are: 0 and 0\n",
      "Case: 4\n",
      "4\n",
      "['a', 'a', 'g', 'c', '-', 'a']\n"
     ]
    }
   ],
   "source": [
    "#ok we have the guide_PA, and the MSA1 and MSA2 that the strings are currently in, the MSA_position_overview to keep track of\n",
    "#in which col a node/string is in. We use this func when guide_PA[i][0]=='-' and MSA1[j][node1_col]=='-'.if they are both at a gap.\n",
    "#so this is a case when we just wanna put the whole thing of MSA (of that colum), because it looks good!\n",
    "#assuming that the guide_PA was made to between how the strings were already looking in the MSA's it the columns in the guide PA and\n",
    "#MSA would be the same enableling a simple enough merge. May be a stupid choice, but let's see.\n",
    "def handle_case1(MSA1,MSA2,i,j):\n",
    "    col_new=MSA1[j]+MSA2[i]\n",
    "    return col_new\n",
    "#this next case is invoked if guide_PA[i][0]!='-' and MSA1[j][node1_col]=='-'.\n",
    "#so the guide wants a non-gap. But we are at a gap in the MSA1. So we need to add gaps for every row in the col of MSA2, and put none of MSA2 in there.\n",
    "def handle_case2(MSA1,MSA2,i,j):\n",
    "    how_many_cols_in_MSA2=len(MSA2[0])\n",
    "    gaps_to_append=['-']*how_many_cols_in_MSA2\n",
    "    col_now=MSA1[j]\n",
    "    col_new=MSA1[j]+gaps_to_append\n",
    "    return col_new\n",
    "\n",
    "#now we are in a situation where guide_PA[i][0]=='-' and MSA1[j][node1_col]!='-'.\n",
    "#meaning that the guide wants a gap, and but there is a char in the MSA.\n",
    "#so now we need to add amount of gaps corresponding to the rows in a col of MSA1. And then add the whole col of MSA1.\n",
    "def handle_case3(MSA1,MSA2,i,j): #this case seems solid!\n",
    "    how_many_cols_in_MSA1=len(MSA1[0])\n",
    "    gaps_to_prepend=['-']*how_many_cols_in_MSA1\n",
    "    new_col=gaps_to_prepend+MSA2[i]\n",
    "    return new_col\n",
    "\n",
    "#now we are in a situation where guide_PA[i][0]!='-' and MSA1[j][node1_col]!='-'.\n",
    "#meaning that we are in a place where we just need to put in the whole col from MSA2 into MSA1\n",
    "def handle_case4(MSA1,MSA2,i,j):\n",
    "    col_new=MSA1[j]+MSA2[i]\n",
    "    return col_new\n",
    "\n",
    "\n",
    "fake_MSA1=[['a','a','g'],['a','g','t']]\n",
    "fake_MSA2=[['c','-','a'],['-','a','a']]\n",
    "fake_guide_PA=[['a','c'],['-','g']]\n",
    "overview={'0': [0, 0], '1': [1, 0], '2': [2, 0]}\n",
    "case=identify_merge_case(fake_guide_PA,fake_MSA1,'0',overview,0,0)\n",
    "print(case)\n",
    "result=handle_case4(fake_MSA1,fake_MSA2,0,0)\n",
    "print(result)\n",
    "\n"
   ]
  },
  {
   "cell_type": "code",
   "execution_count": 150,
   "metadata": {},
   "outputs": [
    {
     "name": "stdout",
     "output_type": "stream",
     "text": [
      "['a', 't', 'c', '-', '-', '-'] ['-', '-', '-', '-', 'a', 'a']\n"
     ]
    }
   ],
   "source": [
    "#to be used if we have reached the end of the guide MSA, but not the MSA1\n",
    "def finish_running_through_MSA1(MSA1,MSA2,j,i):\n",
    "    how_many_cols_in_MSA2=len(MSA2[0])\n",
    "    gaps_to_add=['-']*how_many_cols_in_MSA2\n",
    "    new_col=MSA1[j]+gaps_to_add\n",
    "    return new_col\n",
    "\n",
    "def finish_running_through_MSA2(MSA1,MSA2,j,i):\n",
    "    how_many_cols_in_MSA1=len(MSA1[0])\n",
    "    gaps_to_prepend=['-']*how_many_cols_in_MSA1\n",
    "    new_col=gaps_to_prepend+MSA2[i]\n",
    "    return new_col\n",
    "\n",
    "fake_MSA1=[['a','a','g'],['a','g','t'],['a','t','c']]\n",
    "fake_MSA2=[['c','-','a'],['-','a','a']]\n",
    "\n",
    "res1=finish_running_through_MSA1(fake_MSA1,fake_MSA2,2,1)\n",
    "res2=finish_running_through_MSA2(fake_MSA1,fake_MSA2,2,1)\n",
    "\n",
    "print(res1,res2)"
   ]
  },
  {
   "cell_type": "code",
   "execution_count": 155,
   "metadata": {},
   "outputs": [],
   "source": [
    "#this function is to to ONE merge of two strings and their respective MSA that they are stuck in...\n",
    "#I think this function assumes that the col/row position of the an element is the same in MSA2 and in guide_PA #FIXME:#could be a prob.\n",
    "def merge_united(guide_PA,MSA_list,in_which_MSA_is_it,node1,node2):\n",
    "    print(type(in_which_MSA_is_it))\n",
    "    print(in_which_MSA_is_it)\n",
    "    print(type(node1))\n",
    "    print(type(node2))\n",
    "    MSA_of_node1=get_MSA_pos(in_which_MSA_is_it,node1)[0]\n",
    "    MSA_of_node2=get_MSA_pos(in_which_MSA_is_it,node2)[0]\n",
    "    print(MSA_of_node1)\n",
    "    print(MSA_of_node2)\n",
    "    #print(test_ahah)\n",
    "    #MSA_of_node1,row_of_node1=get_MSA_pos(in_which_MSA_is_it,node1)\n",
    "    #MSA_of_node2,row_of_node2=get_MSA_pos(in_which_MSA_is_it,node2)\n",
    "    MSA1=MSA_list[int(MSA_of_node1)]\n",
    "    MSA2=MSA_list[int(MSA_of_node2)]\n",
    "    \n",
    "    j=0\n",
    "    i=0\n",
    "    MSA_new=[]\n",
    "    while j < len(MSA1) and i < len(guide_PA): #FIXME:#is this even the correct while-statement????  \n",
    "        case=identify_merge_case(guide_PA,MSA1,node1,in_which_MSA_is_it,j,i)\n",
    "        if case==1:\n",
    "            column=handle_case1(MSA1,MSA2,i,j)\n",
    "            MSA_new.append(column)\n",
    "            j+=1\n",
    "            i+=1\n",
    "        elif case==2:\n",
    "            column=handle_case2(MSA1,MSA2,i,j)\n",
    "            MSA_new.append(column)\n",
    "            j+=1\n",
    "        elif case==3:\n",
    "            column=handle_case3(MSA1,MSA2,i,j)\n",
    "            MSA_new.append(column)\n",
    "            i+=1\n",
    "        elif case==4:\n",
    "            column=handle_case4(MSA1,MSA2,i,j)\n",
    "            MSA_new.append(column)\n",
    "            j+=1\n",
    "            i+=1\n",
    "    if j < len(MSA1):\n",
    "        while j< len(MSA1):\n",
    "            column=finish_running_through_MSA1(MSA1,MSA2,j,i)\n",
    "            j+=1\n",
    "            MSA_new.append(column)\n",
    "    if i< len(MSA2):\n",
    "        while i< len(MSA2):\n",
    "            finish_running_through_MSA2(MSA1,MSA2,j,i)\n",
    "            i+=1\n",
    "            MSA_new.append(column)\n",
    "    return MSA_new #FIXME:#also need to update the postion dictionary and possible other things...\n",
    "\n",
    "        "
   ]
  },
  {
   "cell_type": "code",
   "execution_count": 162,
   "metadata": {},
   "outputs": [
    {
     "name": "stdout",
     "output_type": "stream",
     "text": [
      "[[['a', 'a', 'g'], ['a', 'g', 't']], [['c', 'c', 'a'], ['c', 'a', 'a']]]\n",
      "<class 'dict'>\n",
      "{'0': [0, 0], '1': [1, 0], '2': [2, 0]}\n",
      "<class 'str'>\n",
      "<class 'str'>\n",
      "0\n",
      "1\n",
      "i and j are: 0 and 0\n",
      "Case: 4\n",
      "i and j are: 1 and 1\n",
      "Case: 3\n"
     ]
    },
    {
     "data": {
      "text/plain": [
       "[['a', 'a', 'g', 'c', 'c', 'a'],\n",
       " ['-', '-', '-', 'c', 'a', 'a'],\n",
       " ['a', 'g', 't', '-', '-', '-']]"
      ]
     },
     "execution_count": 162,
     "metadata": {},
     "output_type": "execute_result"
    }
   ],
   "source": [
    "\n",
    "fake_MSA1=[['a','a','g'],['a','g','t']]\n",
    "fake_MSA2=[['c','c','a'],['c','a','a']]\n",
    "fake_MSA_list=[fake_MSA1,fake_MSA2]\n",
    "print(fake_MSA_list)\n",
    "fake_guide_PA=[['a','c'],['-','a']]\n",
    "overview={'0': [0, 0], '1': [1, 0], '2': [2, 0]}\n",
    "\n",
    "\n",
    "merge_united(fake_guide_PA,fake_MSA_list,overview,'0','1')"
   ]
  },
  {
   "cell_type": "code",
   "execution_count": null,
   "metadata": {},
   "outputs": [],
   "source": [
    "def the_whole_thing(seqs,score_matrix,gapcost):\n",
    "    # Make a matrix to hold pairwise alignment costs for all alignment combinations!\n",
    "    matrix = np.full((len(seqs), len(seqs)), np.nan)\n",
    "    # Loop over all pairs\n",
    "    for i, seq1 in enumerate(seqs):\n",
    "        for j, seq2 in enumerate(seqs):\n",
    "            matrix[i, j] = get_cost_2(linear_C(gap_cost, score_matrix, seq1, seq2))\n",
    "        print(\"Here comes the distance matrix produced by the alignments: \\n\")\n",
    "        print(matrix)\n",
    "    matrix_for_MST=matrix #copy the matrix, so that we can keep the old matrix and make a changed version to the \"pseudomatrix\" version\n",
    "    matrix_for_MST=convert_to_desired_format_nr_version(matrix_for_MST) #making the \"pseudomatrix\"\n",
    "    min_span_edges_res=find_min_span_edges_testing(matrix_for_MST)\n",
    "    in_which_MSA_is_it={}\n",
    "    names= np.unique(min_span_edges_res[:, 2:])\n",
    "    in_which_MSA_is_it ={name: [int(name),0] for name in names}\n",
    "    MSA_list=[[*seq] for seq in seqs] #initalizing it as every string in their own alignment with nobody else :) \n",
    "    print(in_which_MSA_is_it)\n",
    "    for row in min_span_edges_res:\n",
    "        if row[0]==\"*\":\n",
    "            node1 = row[2]  # Extract the first node\n",
    "            node2 = row[3]  # Extract the second node\n",
    "            cost=linear_C(gap_cost,score_matrix,seqs[node1],seqs[node2]) #doing the alignment of the two strings :) \n",
    "            alignment1_str,alignment2_str=linear_backtrack(seqs[int(node1)], seqs[int(node2)], cost, score_matrix, gap_cost,verbose=verbose)\n",
    "            alignment1, alignment2 = [*alignment1_str], [*alignment2_str]\n",
    "            A = [list(e) for e in zip(alignment1,alignment2)] \n",
    "\n",
    "\n",
    "    MSA_list=[[*seq] for seq in seqs] #initalizing it as every string in their own alignment with nobody else :)\n",
    "    "
   ]
  }
 ],
 "metadata": {
  "kernelspec": {
   "display_name": "base",
   "language": "python",
   "name": "python3"
  },
  "language_info": {
   "codemirror_mode": {
    "name": "ipython",
    "version": 3
   },
   "file_extension": ".py",
   "mimetype": "text/x-python",
   "name": "python",
   "nbconvert_exporter": "python",
   "pygments_lexer": "ipython3",
   "version": "3.10.12"
  },
  "orig_nbformat": 4
 },
 "nbformat": 4,
 "nbformat_minor": 2
}
