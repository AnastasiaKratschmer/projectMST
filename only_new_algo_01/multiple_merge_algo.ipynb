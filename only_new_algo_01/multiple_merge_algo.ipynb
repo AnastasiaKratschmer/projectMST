{
 "cells": [
  {
   "cell_type": "code",
   "execution_count": 2,
   "metadata": {},
   "outputs": [],
   "source": [
    "import random as random\n",
    "import Bio\n",
    "import numpy as np\n",
    "import sys\n",
    "import os\n",
    "import networkx as nx\n",
    "import random as random\n",
    "from tqdm import tqdm # loading bar\n",
    "from utils_copy import linear_C, get_cost_2, get_sequence_string, parse_fasta_multiple, create_score_matrix, write_alignments_to_file, linear_backtrack, fill_graph,new_sp_approxi_combi\n",
    "from utils_copy import convert_to_desired_format_nr_version, compute_cost, my_traversal_simply, extend_alignment_chaos, find_min_span_edges_testing, parse_fasta_multiple_remove_n\n",
    "import timeit\n",
    "from utils_copy import al_integrity_testt\n",
    "from old_for_testing.sp_approx import sp_approx\n",
    "from old_for_testing.utils import *\n",
    "\n",
    "\n",
    "score_matrix={'a': {'a': 0, 'c': 5, 'g': 2, 't': 5}, 'c': {'a': 5, 'c': 0, 'g': 5, 't': 2}, 'g': {'a': 2, 'c': 5, 'g': 0, 't': 5}, 't': {'a': 5, 'c': 2, 'g': 5, 't': 0}}\n",
    "gap_cost=5"
   ]
  },
  {
   "cell_type": "code",
   "execution_count": 3,
   "metadata": {},
   "outputs": [
    {
     "ename": "SyntaxError",
     "evalue": "invalid syntax (2203443271.py, line 13)",
     "output_type": "error",
     "traceback": [
      "\u001b[0;36m  Cell \u001b[0;32mIn[3], line 13\u001b[0;36m\u001b[0m\n\u001b[0;31m    TODO: #till here I'd say we need no changes!!\u001b[0m\n\u001b[0m          ^\u001b[0m\n\u001b[0;31mSyntaxError\u001b[0m\u001b[0;31m:\u001b[0m invalid syntax\n"
     ]
    }
   ],
   "source": [
    "def multiple_merge_algo(seqs: list[str], score_matrix: dict, gap_cost: int, verbose=False, return_center_string=False,layout=\"spring\"):\n",
    "    # Make a matrix to hold pairwise alignment costs for all alignment combinations!\n",
    "    matrix = np.full((len(seqs), len(seqs)), np.nan)\n",
    "    # Loop over all pairs\n",
    "    for i, seq1 in enumerate(seqs):\n",
    "        for j, seq2 in enumerate(seqs):\n",
    "            matrix[i, j] = get_cost_2(linear_C(gap_cost, score_matrix, seq1, seq2,verbose=verbose))\n",
    "    if verbose:\n",
    "        print(\"Here comes the distance matrix produced by the alignments: \\n\")\n",
    "        print(matrix)\n",
    "    matrix_for_MST=matrix #copy the matrix, so that we can keep the old matrix and make a changed version to the \"pseudomatrix\" version\n",
    "    matrix_for_MST=convert_to_desired_format_nr_version(matrix_for_MST) #making the \"pseudomatrix\"\n",
    "    TODO: #till here I'd say we need no changes!!\n",
    "    min_span_edges=find_min_span_edges_testing(matrix_for_MST,verbose=verbose) #Run Kruskal's algorithm on the \"pseudomatrix\"\n",
    "    if verbose:\n",
    "        print(\"Here comes the pseudomatrix, filled out with with the edges inclued in the MST: \\n\")\n",
    "        print(min_span_edges)\n",
    "\n",
    "    max_indices = np.where(matrix == np.max(matrix)) # Choosing where to start traversal. I want to start at one of the nodes that is the furthest away from any other so start from a side of graph.. hmmmm...\n",
    "    max_row_index = max_indices[0][0] #just choose one of them.\n",
    "    if verbose:\n",
    "        print(\"Starting key for traversal based on max_row_idex: \")\n",
    "        print(max_row_index)\n",
    "\n",
    "    #Put the nodes and the minimum spanning edges into a graph.\n",
    "    G=fill_graph(min_span_edges,str(int(max_row_index)),layout) #using the max_row_index as the starting key! (an making the graph!)\n",
    "    alignment_pairs,index_dict=my_traversal_simply(G,str(int(max_row_index)),verbose=verbose) #'traverse' to get alignment_pairs (pairs of sucessors and predecessors) and their position in the MSA to come (index_dict)\n",
    "    if verbose:\n",
    "        print(\"Here come your alignment pairs and the idex dict: \\n\")\n",
    "        print(alignment_pairs)\n",
    "        print(index_dict)\n",
    "\n",
    "     # Constructing alignment M\n",
    "    M: list[list[str]] = [[letter] for letter in [*seqs[int(max_row_index)]]] #make structure where evey column in the alignment is represented as a string in a list (in a list)\n",
    "    cost_list = []\n",
    "    A_dict={}\n",
    "    #using the pairings of predecessors and successors in the alignment_pairs dict, align the strings.\n",
    "    for key,value in alignment_pairs.items():\n",
    "        if verbose: print(\"this is the key: \"+str(key)+\" and this is the value: \"+str(value))\n",
    "        cost = linear_C(gap_cost, score_matrix, seqs[int(value)], seqs[int(key)],verbose=verbose) #the alignment call itself :) \n",
    "        if verbose: print(\"\\n now aligning....\"+str(seqs[int(key)])+ \" and \"+ str(seqs[int(value)]))\n",
    "        cost_list.append(get_cost_2(cost))\n",
    "        \n",
    "        # prepare A-matrix for extension\n",
    "        alignment1_str, alignment2_str = linear_backtrack(seqs[int(value)], seqs[int(key)], cost, score_matrix, gap_cost,verbose=verbose) #backtract to get the alignments!\n",
    "        str1_nr=value #the predecessor/parent string\n",
    "        alignment1, alignment2 = [*alignment1_str], [*alignment2_str] #splitting up the alignments into elements to have the right format for the list of lists (M)\n",
    "        \n",
    "        A = [list(e) for e in zip(alignment1,alignment2)] #zipping the elements of the two aligned strings together pairwisely\n",
    "        if ord(key) < ord(value):\n",
    "            key_for_A_dict=str(key)+\"_\"+str(value)\n",
    "        else:\n",
    "            key_for_A_dict=str(value)+\"_\"+str(key)\n",
    "        A_dict[key_for_A_dict]=A\n",
    "        #pair_al=A_dict[key_for_A_dict]\n",
    "        if verbose: print(\"A right now is: \"+str(A))\n",
    "        if verbose: print(\"M right now: \"+str(M))\n",
    "        # extend\n",
    "        Mk = extend_alignment_chaos(M,str1_nr, A,index_dict,verbose=verbose) \n",
    "        M = Mk\n",
    "    if verbose:\n",
    "        print(\"Here is the alignment in full omg: \\n\")\n",
    "        print(M)\n",
    "    print(\"this is A_dict: \")\n",
    "    print(A_dict)\n",
    "    al_integrity_testt(A,alignment_pairs,index_dict,M,verbose=verbose)\n",
    "    # ACTUALLY COMPUTE (approximate) COST\n",
    "    total_cost = compute_cost(M, score_matrix, gap_cost)\n",
    "    print(\"Total cost of MSA:\"+str(total_cost))\n",
    "    return total_cost, M, matrix_for_MST,G"
   ]
  },
  {
   "cell_type": "code",
   "execution_count": 11,
   "metadata": {},
   "outputs": [],
   "source": [
    "test_res_mat=np.array([['*', '1', '0', '1'], ['*', '2', '0', '2'],['','3','0','2'], ['', '3', '1', '2']])"
   ]
  },
  {
   "cell_type": "code",
   "execution_count": 19,
   "metadata": {},
   "outputs": [],
   "source": [
    "def orchestrate_merge(res_matrix, seqs,score_matrix,gapcost,verbose=False): #should also include seqs,score_matrix,gap_cost, verbose=False)\n",
    "    in_which_MSA_is_it={}\n",
    "    names= np.unique(res_matrix[:, 2:])\n",
    "    in_which_MSA_is_it ={name: [int(name),0] for name in names}\n",
    "    MSA_list=[[*seq] for seq in seqs] #initalizing it as every string in their own alignment with nobody else :) \n",
    "    print(in_which_MSA_is_it)\n",
    "    for row in res_matrix:\n",
    "        if row[0]==\"*\":\n",
    "            node1 = row[2]  # Extract the first node\n",
    "            node2 = row[3]  # Extract the second node\n",
    "            cost=linear_C(gap_cost,score_matrix,seqs[node1],seqs[node2]) #doing the alignment of the two strings :) \n",
    "            alignment1_str,alignment2_str=linear_backtrack(seqs[int(node1)], seqs[int(node2)], cost, score_matrix, gap_cost,verbose=verbose)\n",
    "            alignment1, alignment2 = [*alignment1_str], [*alignment2_str]\n",
    "            A = [list(e) for e in zip(alignment1,alignment2)] #the 'guide' (pairwise alignment) in this iteration!\n",
    "            #where are these two sequences now? get the MSA and their position in that MSA!\n",
    "            which_MSA_node1=in_which_MSA_is_it[node1][0]\n",
    "            which_pos_in_MSA_node1=in_which_MSA_is_it[node1][1]\n",
    "            which_MSA_node2=in_which_MSA_is_it[node2][0]\n",
    "            which_pos_in_MSA_node2=in_which_MSA_is_it[node2][1]\n",
    "            current_MSA_node1=MSA_list[which_MSA_node1][which_pos_in_MSA_node1] #how is the current MSA of node 1 looking??\n",
    "            current_MSA_node2=MSA_list[which_MSA_node2][which_pos_in_MSA_node2] #how is the current MSA of node 1 looking??\n",
    "            #now we should compare the A (pairwise alignment) to the current alignment\n",
    "            MA=[]#for holding the merged stuff\n",
    "            i=0\n",
    "            j=0\n",
    "            while i < len(current_MSA_node1) and j < len(A):\n",
    "                #case1\n",
    "                if current_MSA_node1[i][which_pos_in_MSA_node1]=='-' and A[j][0]=='-':\n",
    "                    current_MSA_node1[i].append(A[j][1])\n",
    "                    MA.append(current_MSA_node1[i])\n",
    "                    i+=1\n",
    "                    j+=1\n",
    "                #case2\n",
    "                elif current_MSA_node1[i][which_pos_in_MSA_node1]=='-' and A[j][0]!='-':\n",
    "                    current_MSA_node1[i].append('-')\n",
    "                    MA.append(current_MSA_node1[i])\n",
    "                    i+=1\n",
    "                #case3\n",
    "                elif current_MSA_node1[i][which_pos_in_MSA_node1]!='-' and A[j][0]=='-':\n",
    "                    c = ['-']*len(current_MSA_node1[i])\n",
    "                    c.append(A[j][1])\n",
    "                    MA.append(c)\n",
    "                    j+=1\n",
    "                #case4\n",
    "                elif current_MSA_node1[i][which_pos_in_MSA_node1]!='-' and A[j][0]!='-':\n",
    "                    current_MSA_node1[i].append(A[j][1])\n",
    "                    MA.append(current_MSA_node1[i])\n",
    "                    i = i + 1\n",
    "                    j = j + 1\n",
    "            if i < len(current_MSA_node1):\n",
    "                while i < len(current_MSA_node1):\n",
    "                    current_MSA_node1[i].append('-')\n",
    "                    MA.append(current_MSA_node1[i])\n",
    "                    i = i + 1\n",
    "            \n",
    "            if j < len(A):\n",
    "                k = len(current_MSA_node1[which_pos_in_MSA_node1])\n",
    "                while j < len(A):\n",
    "                    c = ['-']*(k-1)\n",
    "                    c.append(A[j][1])\n",
    "                    MA.append(c)\n",
    "                    j = j + 1\n",
    "            \n",
    "\n",
    "\n",
    "\n",
    "\n",
    "merge_actually() #TODO: #um actually make this lollll\n",
    "\n",
    "\n"
   ]
  },
  {
   "cell_type": "code",
   "execution_count": 28,
   "metadata": {},
   "outputs": [
    {
     "name": "stdout",
     "output_type": "stream",
     "text": [
      "['0' '1' '2']\n",
      "{'0': [0, 0], '1': [1, 0], '2': [2, 0]}\n",
      "[['a', 'g', 'c', 't'], ['c', 't', 'g', 'g'], ['g', 't', 'a', 'c', 'c', 'c', 'a', 'c', 'a', 'c', 'a']]\n"
     ]
    }
   ],
   "source": [
    "names=np.unique(test_res_mat[:, 2:])\n",
    "print(names)\n",
    "#in_which_MSA_is_itt = {name:[int(name):0 for i, name in enumerate(names)]}\n",
    "in_which_MSA_is_itt = {name: [int(name),0] for name in names}\n",
    "print(in_which_MSA_is_itt)\n",
    "\n",
    "seqss=['agct','ctgg','gtacccacaca']\n",
    "MSA_list=[[*seq] for seq in seqss]\n",
    "print(MSA_list)\n"
   ]
  },
  {
   "cell_type": "code",
   "execution_count": 20,
   "metadata": {},
   "outputs": [
    {
     "data": {
      "text/plain": [
       "{0: {'0': 0}, 1: {'1': 0}, 2: {'2': 0}}"
      ]
     },
     "execution_count": 20,
     "metadata": {},
     "output_type": "execute_result"
    }
   ],
   "source": [
    "orchestrate_merge(test_res_mat)"
   ]
  }
 ],
 "metadata": {
  "kernelspec": {
   "display_name": "base",
   "language": "python",
   "name": "python3"
  },
  "language_info": {
   "codemirror_mode": {
    "name": "ipython",
    "version": 3
   },
   "file_extension": ".py",
   "mimetype": "text/x-python",
   "name": "python",
   "nbconvert_exporter": "python",
   "pygments_lexer": "ipython3",
   "version": "3.10.12"
  },
  "orig_nbformat": 4
 },
 "nbformat": 4,
 "nbformat_minor": 2
}
