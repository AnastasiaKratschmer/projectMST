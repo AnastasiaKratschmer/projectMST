{
 "cells": [
  {
   "cell_type": "code",
   "execution_count": 49,
   "metadata": {},
   "outputs": [],
   "source": [
    "import numpy as np\n",
    "edges=np.array([['',1,'1','2'],['',8,'1','3'],['',2,'1','4'],['',9,'2','3'],['',5,'3','4'],['',10,'2','4']])"
   ]
  },
  {
   "cell_type": "code",
   "execution_count": 55,
   "metadata": {},
   "outputs": [
    {
     "name": "stdout",
     "output_type": "stream",
     "text": [
      "(1, array(['', '1', '1', '2'], dtype='<U21'))\n",
      "(2, array(['', '2', '1', '4'], dtype='<U21'))\n",
      "(5, array(['', '5', '3', '4'], dtype='<U21'))\n"
     ]
    }
   ],
   "source": [
    "# A Python program to demonstrate common binary heap operations\n",
    " \n",
    "# Import the heap functions from python library\n",
    "from heapq import heappush, heappop, heapify \n",
    " \n",
    "class MinHeap:\n",
    "    def __init__(self):\n",
    "        self.heap = []\n",
    "\n",
    "    def parent(self, i):\n",
    "        return (i - 1) // 2\n",
    "\n",
    "    def insertKey(self, lst):\n",
    "        priority = int(lst[1])  # Convert the key to an integer\n",
    "        heappush(self.heap, (priority, lst))  # Include the integer key in the tuple\n",
    "\n",
    "    def decreaseKey(self, i, new_val):\n",
    "        self.heap[i] = (new_val, self.heap[i][1])  # Update the key in the tuple\n",
    "        while i != 0 and self.heap[self.parent(i)][0] > self.heap[i][0]:\n",
    "            self.heap[i], self.heap[self.parent(i)] = self.heap[self.parent(i)], self.heap[i]\n",
    "            i = self.parent(i)\n",
    "\n",
    "    def extractMin(self):\n",
    "        return heappop(self.heap)[1]\n",
    "\n",
    "    def deleteKey(self, i):\n",
    "        self.decreaseKey(i, float(\"-inf\"))\n",
    "        self.extractMin()\n",
    "\n",
    "    def getMin(self):\n",
    "        return self.heap[0]\n",
    "\n",
    " \n",
    "pairs_list=[]\n",
    "heapObj = MinHeap()\n",
    "for row in edges:\n",
    "    heapObj.insertKey(row) #construction of \n",
    "node_nr=len(np.unique(np.unique(edges[:, 2:])))\n",
    "i=0\n",
    "while i<(node_nr-1): #nope because we are not sure that everything is connected already here!!\n",
    "    min_object=heapObj.getMin()\n",
    "    if min_object[1][2]!==min_object[1][3]\n",
    "    heapObj.deleteKey(0)\n",
    "    i+=1\n",
    "\n",
    "#SO this needs a way to keep track of where stuff is at.... which I think might strip most advantages.. idk if it is even quicker, depends on running time of sorting in the old func. and probably on input size....\n",
    "\n",
    "\n",
    " "
   ]
  }
 ],
 "metadata": {
  "kernelspec": {
   "display_name": "base",
   "language": "python",
   "name": "python3"
  },
  "language_info": {
   "codemirror_mode": {
    "name": "ipython",
    "version": 3
   },
   "file_extension": ".py",
   "mimetype": "text/x-python",
   "name": "python",
   "nbconvert_exporter": "python",
   "pygments_lexer": "ipython3",
   "version": "3.10.12"
  }
 },
 "nbformat": 4,
 "nbformat_minor": 2
}
