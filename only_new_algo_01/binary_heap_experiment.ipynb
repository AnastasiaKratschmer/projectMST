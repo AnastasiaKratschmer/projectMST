{
 "cells": [
  {
   "cell_type": "code",
   "execution_count": 6,
   "metadata": {},
   "outputs": [],
   "source": [
    "import numpy as np\n",
    "edges=np.array([['',1,'1','2'],['',8,'1','3'],['',2,'1','4'],['',9,'2','3'],['',5,'3','4'],['',10,'2','4']],[])\n",
    "from utils_copy import find_min_span_edges_testing"
   ]
  },
  {
   "cell_type": "code",
   "execution_count": 55,
   "metadata": {},
   "outputs": [],
   "source": [
    "# Your input data\n",
    "data =np.array([['', '7', '0', '1'],\n",
    "        ['', '5', '0', '2'],\n",
    "        ['', '28', '0', '3'],\n",
    "        ['', '29', '0', '4'],\n",
    "        ['', '25', '0', '5'],\n",
    "        ['', '34', '0', '6'],\n",
    "        ['', '34', '0', '7'],\n",
    "        ['', '34', '0', '8'],\n",
    "        ['', '12', '1', '2'],\n",
    "        ['', '35', '1', '3'],\n",
    "        ['', '29', '1', '4'],\n",
    "        ['', '32', '1', '5'],\n",
    "        ['', '29', '1', '6'],\n",
    "        ['', '29', '1', '7'],\n",
    "        ['', '34', '1', '8'],\n",
    "        ['', '25', '2', '3'],\n",
    "        ['', '34', '2', '4'],\n",
    "        ['', '28', '2', '5'],\n",
    "        ['', '39', '2', '6'],\n",
    "        ['', '39', '2', '7'],\n",
    "        ['', '39', '2', '8'],\n",
    "        ['', '10', '3', '4'],\n",
    "        ['', '5', '3', '5'],\n",
    "        ['', '32', '3', '6'],\n",
    "        ['', '32', '3', '7'],\n",
    "        ['', '35', '3', '8'],\n",
    "        ['', '15', '4', '5'],\n",
    "        ['', '32', '4', '6'],\n",
    "        ['', '32', '4', '7'],\n",
    "        ['', '27', '4', '8'],\n",
    "        ['', '29', '5', '6'],\n",
    "        ['', '29', '5', '7'],\n",
    "        ['', '32', '5', '8'],\n",
    "        ['', '0', '6', '7'],\n",
    "        ['', '5', '6', '8'],\n",
    "        ['', '5', '7', '8']])"
   ]
  },
  {
   "cell_type": "code",
   "execution_count": 56,
   "metadata": {},
   "outputs": [
    {
     "data": {
      "text/plain": [
       "array([['*', '1', '1', '2'],\n",
       "       ['*', '2', '1', '4'],\n",
       "       ['*', '5', '3', '4'],\n",
       "       ['', '8', '1', '3'],\n",
       "       ['', '9', '2', '3'],\n",
       "       ['', '10', '2', '4']], dtype='<U21')"
      ]
     },
     "execution_count": 56,
     "metadata": {},
     "output_type": "execute_result"
    }
   ],
   "source": [
    "# A Python program to demonstrate common binary heap operations\n",
    " \n",
    "# Import the heap functions from python library\n",
    "from heapq import heappush, heappop, heapify \n",
    " \n",
    "class MinHeap:\n",
    "    def __init__(self):\n",
    "        self.heap = []\n",
    "\n",
    "    def parent(self, i):\n",
    "        return (i - 1) // 2\n",
    "\n",
    "    def insertKey(self, lst):\n",
    "        priority = int(lst[1])  # Convert the key to an integer\n",
    "        heappush(self.heap, (priority, lst))  # Include the integer key in the tuple\n",
    "\n",
    "    def decreaseKey(self, i, new_val):\n",
    "        self.heap[i] = (new_val, self.heap[i][1])  # Update the key in the tuple\n",
    "        while i != 0 and self.heap[self.parent(i)][0] > self.heap[i][0]:\n",
    "            self.heap[i], self.heap[self.parent(i)] = self.heap[self.parent(i)], self.heap[i]\n",
    "            i = self.parent(i)\n",
    "\n",
    "    def extractMin(self):\n",
    "        return heappop(self.heap)[1]\n",
    "\n",
    "    def deleteKey(self, i):\n",
    "        self.decreaseKey(i, float(\"-inf\"))\n",
    "        self.extractMin()\n",
    "\n",
    "    def getMin(self):\n",
    "        return self.heap[0]\n",
    "\n",
    "def find_min_span_edges_heap(pseudomatrix): \n",
    "    pairs_list=[]\n",
    "    heapObj = MinHeap()\n",
    "    for row in edges:\n",
    "        heapObj.insertKey(row) #construction of heap\n",
    "    names=np.unique(edges[:, 2:])\n",
    "    node_nr=len(names)\n",
    "    name_dict= {letter:i for i, letter in enumerate(names)}\n",
    "    #print(name_dict)\n",
    "    i=0\n",
    "    # ...\n",
    "    while len(set(name_dict.values())) > 1:\n",
    "        min_object = heapObj.getMin()\n",
    "        #print(min_object)\n",
    "        key1, key2 = min_object[1][2], min_object[1][3]\n",
    "        if name_dict[key1] != name_dict[key2]:\n",
    "            pairs_list.append([key1, key2])\n",
    "            heapObj.deleteKey(0)\n",
    "            i += 1\n",
    "            tree1_id = name_dict[key1]\n",
    "            tree2_id = name_dict[key2]\n",
    "            # Update the representatives directly in name_dict\n",
    "            for key, value in name_dict.items():\n",
    "                if value == tree2_id:\n",
    "                    name_dict[key] = tree1_id\n",
    "    return(pairs_list)\n",
    "\n",
    "find_min_span_edges_heap(edges)\n",
    "\n",
    "find_min_span_edges_testing(edges)"
   ]
  },
  {
   "cell_type": "code",
   "execution_count": 65,
   "metadata": {},
   "outputs": [
    {
     "name": "stdout",
     "output_type": "stream",
     "text": [
      "0.5838264988263797\n"
     ]
    }
   ],
   "source": [
    "import time\n",
    "heap_time=[]\n",
    "array_time=[]\n",
    "\n",
    "for i in range(1,100000):\n",
    "    start_time = time.time()\n",
    "\n",
    "    # Call the function you want to measure\n",
    "    find_min_span_edges_heap(data)\n",
    "\n",
    "    end_time = time.time()\n",
    "\n",
    "    execution_time = end_time - start_time\n",
    "    heap_time.append(execution_time)\n",
    "\n",
    "\n",
    "    start_time = time.time()\n",
    "\n",
    "    # Call the function you want to measure\n",
    "    find_min_span_edges_testing(data)\n",
    "\n",
    "    end_time = time.time()\n",
    "\n",
    "    execution_time = end_time - start_time\n",
    "    array_time.append(execution_time)\n",
    "\n",
    "\n",
    "heap_time_array = np.array(heap_time)\n",
    "array_time_array = np.array(array_time)\n",
    "result = []\n",
    "for i in range(len(heap_time)):\n",
    "    result.append(heap_time[i] / array_time[i])\n",
    "\n",
    "#print(result)\n",
    "\n",
    "print(np.mean(result))\n"
   ]
  }
 ],
 "metadata": {
  "kernelspec": {
   "display_name": "base",
   "language": "python",
   "name": "python3"
  },
  "language_info": {
   "codemirror_mode": {
    "name": "ipython",
    "version": 3
   },
   "file_extension": ".py",
   "mimetype": "text/x-python",
   "name": "python",
   "nbconvert_exporter": "python",
   "pygments_lexer": "ipython3",
   "version": "3.10.12"
  }
 },
 "nbformat": 4,
 "nbformat_minor": 2
}
