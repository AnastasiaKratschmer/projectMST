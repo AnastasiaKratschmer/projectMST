{
 "cells": [
  {
   "cell_type": "code",
   "execution_count": null,
   "metadata": {},
   "outputs": [],
   "source": [
    "import Bio\n",
    "import numpy as np\n",
    "import sys\n",
    "import os\n",
    "import networkx as nx\n",
    "import random as random\n",
    "from tqdm import tqdm # loading bar\n",
    "from utils_copy import linear_C, get_cost_2, get_sequence_string, parse_fasta_multiple, create_score_matrix, write_alignments_to_file, linear_backtrack, fill_graph,new_sp_approxi_combi\n",
    "from utils_copy import convert_to_desired_format_nr_version, compute_cost, my_traversal_simply, extend_alignment_chaos, find_min_span_edges_testing, parse_fasta_multiple_remove_n\n",
    "import timeit\n",
    "\n",
    "score_matrix={'a': {'a': 0, 'c': 5, 'g': 2, 't': 5}, 'c': {'a': 5, 'c': 0, 'g': 5, 't': 2}, 'g': {'a': 2, 'c': 5, 'g': 0, 't': 5}, 't': {'a': 5, 'c': 2, 'g': 5, 't': 0}}\n",
    "gap_cost=5\n",
    "\n",
    "filename='brca1-testseqs.fasta'\n",
    "filename2='brca1-full.fasta'\n",
    "brca_seqs_work_please,names=parse_fasta_multiple(filename)\n",
    "brca_seqs_long=parse_fasta_multiple_remove_n(filename2)"
   ]
  },
  {
   "cell_type": "code",
   "execution_count": 2,
   "metadata": {},
   "outputs": [],
   "source": [
    "def al_integrity_testt(A_dict, alignment_pairs, index_dict, MSA,verbose=False):\n",
    "    integrity=True\n",
    "    for key, value in alignment_pairs.items():\n",
    "        position_key = index_dict[key] #find the position in the MSA\n",
    "        position_value = index_dict[value]\n",
    "        seq1 = []\n",
    "        seq2 = []\n",
    "        for element in MSA:\n",
    "            seq1.append(element[int(position_key)]) #extract the 'column' for the\n",
    "            seq2.append(element[int(position_value)])\n",
    "        zipped = [list(e) for e in zip(seq1, seq2)] #zip the two lists to get the same format as in the pairwise alignment!\n",
    "        zipped = [sublist for sublist in zipped if not all(element == '-' for element in sublist)]#removing all-gap columns\n",
    "\n",
    "        if ord(key) < ord(value):\n",
    "            key_for_A_dict = str(key) + \"_\" + str(value) #to reflect naming practice in the big function..\n",
    "        else:\n",
    "            key_for_A_dict = str(value) + \"_\" + str(key)\n",
    "\n",
    "        # Add debugging print statement\n",
    "        if verbose:\n",
    "            print(\"key_for_A_dict:\", key_for_A_dict)\n",
    "\n",
    "        # Check if key_for_A_dict exists in A_dict\n",
    "        if key_for_A_dict in A_dict:\n",
    "            pair_al = A_dict[key_for_A_dict]\n",
    "            for i in range(min(len(zipped), len(pair_al))): #iterate and compare columns!ch\n",
    "                if zipped[i] != pair_al[i]:\n",
    "                    print(\"A problem occurred: At position \" + str(i) + \", \" + str(zipped[i]) + \" is not \" + str(pair_al[i]))\n",
    "                    integrity=False\n",
    "            print(\"A problem occurred: key_for_A_dict not found in A_dict\")\n",
    "        if integrity and verbose:\n",
    "            print(\"Alignment integrity looks fine!\")\n"
   ]
  }
 ],
 "metadata": {
  "kernelspec": {
   "display_name": "base",
   "language": "python",
   "name": "python3"
  },
  "language_info": {
   "codemirror_mode": {
    "name": "ipython",
    "version": 3
   },
   "file_extension": ".py",
   "mimetype": "text/x-python",
   "name": "python",
   "nbconvert_exporter": "python",
   "pygments_lexer": "ipython3",
   "version": "3.10.12"
  },
  "orig_nbformat": 4
 },
 "nbformat": 4,
 "nbformat_minor": 2
}
