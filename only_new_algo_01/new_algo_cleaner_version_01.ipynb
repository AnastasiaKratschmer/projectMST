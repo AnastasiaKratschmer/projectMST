{
 "cells": [
  {
   "cell_type": "code",
   "execution_count": 1,
   "metadata": {},
   "outputs": [
    {
     "name": "stdout",
     "output_type": "stream",
     "text": [
      "brca1_bos_taurus\n",
      "brca1_canis_lupus\n",
      "brca1_gallus_gallus\n",
      "brca1_homo_sapiens\n",
      "brca1_macaca_mulatta\n",
      "brca1_mus_musculus\n",
      "brca1_pan_troglodytes\n",
      "brca1_rattus_norvegicus\n",
      "cgctggt\n",
      "The sequence does not contain 'n' or 'N'.\n"
     ]
    }
   ],
   "source": [
    "#initialisation for easy testing\n",
    "import Bio\n",
    "import numpy as np\n",
    "import sys\n",
    "import os\n",
    "import networkx as nx\n",
    "import random as random\n",
    "from tqdm import tqdm # loading bar\n",
    "from utils_copy import linear_C, get_cost_2, get_sequence_string, parse_fasta_multiple, create_score_matrix, write_alignments_to_file, linear_backtrack, fill_graph,new_sp_approxi_combi\n",
    "from utils_copy import convert_to_desired_format_nr_version, compute_cost, my_traversal_simply, extend_alignment_chaos, find_min_span_edges_testing, parse_fasta_multiple_remove_n\n",
    "\n",
    "score_matrix={'a': {'a': 0, 'c': 5, 'g': 2, 't': 5}, 'c': {'a': 5, 'c': 0, 'g': 5, 't': 2}, 'g': {'a': 2, 'c': 5, 'g': 0, 't': 5}, 't': {'a': 5, 'c': 2, 'g': 5, 't': 0}}\n",
    "gap_cost=5\n",
    "\n",
    "filename='brca1-testseqs.fasta'\n",
    "filename2='brca1-full.fasta'\n",
    "brca_seqs_work_please,names=parse_fasta_multiple(filename)\n",
    "brca_seqs_long=parse_fasta_multiple_remove_n(filename2)\n",
    "\n",
    "#print(brca_seqs_work_please)\n",
    "print(brca_seqs_long[0][0:7])\n",
    "\n",
    "#just testing if the removal of n worked!\n",
    "sequence=brca_seqs_long[0][7]\n",
    "contains_n = any(letter.lower() == 'n' for letter in sequence)\n",
    "if contains_n:\n",
    "    print(\"The sequence contains at least one 'n' or 'N'.\")\n",
    "else:\n",
    "    print(\"The sequence does not contain 'n' or 'N'.\")"
   ]
  },
  {
   "cell_type": "code",
   "execution_count": 2,
   "metadata": {},
   "outputs": [
    {
     "name": "stdout",
     "output_type": "stream",
     "text": [
      "tgcatgctgaaacttctcaacca\n",
      "The sequence does not contain 'n' or 'N'.\n"
     ]
    }
   ],
   "source": [
    "filename_n='n_containing_seqs_short.fasta'\n",
    "sekk,namm=parse_fasta_multiple_remove_n(filename_n)\n",
    "print(sekk)\n",
    "sequence=sekk[0]\n",
    "contains_n = any(letter.lower() == 'n' for letter in sequence)\n",
    "if contains_n:\n",
    "    print(\"The sequence contains at least one 'n' or 'N'.\")\n",
    "else:\n",
    "    print(\"The sequence does not contain 'n' or 'N'.\")\n"
   ]
  },
  {
   "cell_type": "code",
   "execution_count": 6,
   "metadata": {},
   "outputs": [],
   "source": [
    "def new_sp_approxi_combi(seqs: list[str], score_matrix: dict, gap_cost: int, verbose=False, return_center_string=False,layout=\"spring\"):\n",
    "    # STEP 1: Find the center string\n",
    "    matrix = np.full((len(seqs), len(seqs)), np.nan)\n",
    "    # loop over all distinct pairs\n",
    "    for i, seq1 in enumerate(seqs):\n",
    "        for j, seq2 in enumerate(seqs):\n",
    "              matrix[i, j] = get_cost_2(linear_C(gap_cost, score_matrix, seq1, seq2))\n",
    "    print(matrix)\n",
    "    matrix_for_MST=matrix \n",
    "    matrix_for_MST=convert_to_desired_format_nr_version(matrix_for_MST)\n",
    "    min_span_edges=find_min_span_edges_testing(matrix_for_MST)\n",
    "    print(matrix_for_MST)\n",
    "    print(min_span_edges)\n",
    "\n",
    "    max_indices = np.where(matrix == np.max(matrix))\n",
    "    max_row_index = max_indices[0][0]\n",
    "    print(max_row_index)\n",
    "\n",
    "    #need to use the my_transversal_simply to get transversal order but still use get_visiting_order to put edges in the graph!\n",
    "    G=fill_graph(min_span_edges,str(int(max_row_index)),layout) #str(int(np.argmin(matrix.sum(axis = 1)))) to get the min arg as the starting point.\n",
    "    alignment_pairs,index_dict=my_traversal_simply(G,str(int(max_row_index)))\n",
    "    print(alignment_pairs)\n",
    "    print(index_dict)\n",
    "\n",
    "     # STEP 2: Construct alignment M\n",
    "    M: list[list[str]] = [[letter] for letter in [*seqs[int(max_row_index)]]]\n",
    "    print(\"M right now:\")\n",
    "    print(M)\n",
    "    print(\"seqs right now\")\n",
    "    print(seqs)\n",
    "    cost_list = []\n",
    "    for key,value in alignment_pairs.items(): #was just seqs bebore\n",
    "        #you need here to get the pairs from the new dict instead\n",
    "        cost = linear_C(gap_cost, score_matrix, seqs[int(value)], seqs[int(key)]) #was just seqs before\n",
    "        print(\"\\n now aligning....\"+str(seqs[int(value)])+ \" and \"+ str(seqs[int(key)]))\n",
    "        cost_list.append(get_cost_2(cost))\n",
    "        \n",
    "        # prepare A-matrix for extension\n",
    "        alignment1_str, alignment2_str = linear_backtrack(seqs[int(value)], seqs[int(key)], cost, score_matrix, gap_cost)\n",
    "        str1_nr=value\n",
    "        alignment1, alignment2 = [*alignment1_str], [*alignment2_str]\n",
    "        #here you need to provide the nr of the sequences to be able to index in the indexing dict in the extend_alignment_chaos func\n",
    "        A = [list(e) for e in zip(alignment1,alignment2)]\n",
    "        print(\"A right now is: \"+str(A))\n",
    "        print(\"M right now: \"+str(M))\n",
    "        # extend\n",
    "        Mk = extend_alignment_chaos(M,str1_nr, A,index_dict) #needs the chaos version\n",
    "        M = Mk\n",
    "    \n",
    "    # ACTUALLY COMPUTE (approximate) COST\n",
    "    total_cost = compute_cost(M, score_matrix, gap_cost)\n",
    "    return total_cost, M, matrix_for_MST,G"
   ]
  },
  {
   "cell_type": "code",
   "execution_count": 10,
   "metadata": {},
   "outputs": [
    {
     "ename": "Exception",
     "evalue": "n is an invalid character in sequence 2.",
     "output_type": "error",
     "traceback": [
      "\u001b[1;31m---------------------------------------------------------------------------\u001b[0m",
      "\u001b[1;31mException\u001b[0m                                 Traceback (most recent call last)",
      "\u001b[1;32mc:\\Users\\anastasia\\OneDrive\\Documents\\Kandidat\\Bioinf_sem_3\\Projekt\\projectMST\\only_new_algo_01\\new_algo_cleaner_version_01.ipynb Cell 3\u001b[0m in \u001b[0;36m<cell line: 3>\u001b[1;34m()\u001b[0m\n\u001b[0;32m      <a href='vscode-notebook-cell:/c%3A/Users/anastasia/OneDrive/Documents/Kandidat/Bioinf_sem_3/Projekt/projectMST/only_new_algo_01/new_algo_cleaner_version_01.ipynb#W2sZmlsZQ%3D%3D?line=0'>1</a>\u001b[0m \u001b[39m#running it!! (not ruining it hopefully :P )\u001b[39;00m\n\u001b[1;32m----> <a href='vscode-notebook-cell:/c%3A/Users/anastasia/OneDrive/Documents/Kandidat/Bioinf_sem_3/Projekt/projectMST/only_new_algo_01/new_algo_cleaner_version_01.ipynb#W2sZmlsZQ%3D%3D?line=2'>3</a>\u001b[0m new_sp_approxi_combi(brca_seqs_long[\u001b[39m0\u001b[39;49m],score_matrix,gap_cost)\n",
      "File \u001b[1;32mc:\\Users\\anastasia\\OneDrive\\Documents\\Kandidat\\Bioinf_sem_3\\Projekt\\projectMST\\only_new_algo_01\\utils_copy.py:356\u001b[0m, in \u001b[0;36mnew_sp_approxi_combi\u001b[1;34m(seqs, score_matrix, gap_cost, verbose, return_center_string, layout, traversal_here)\u001b[0m\n\u001b[0;32m    354\u001b[0m \u001b[39m# loop over all distinct pairs\u001b[39;00m\n\u001b[0;32m    355\u001b[0m \u001b[39mfor\u001b[39;00m i, seq1 \u001b[39min\u001b[39;00m \u001b[39menumerate\u001b[39m(seqs):\n\u001b[1;32m--> 356\u001b[0m     \u001b[39mfor\u001b[39;00m j, seq2 \u001b[39min\u001b[39;00m \u001b[39menumerate\u001b[39m(seqs):\n\u001b[0;32m    357\u001b[0m           matrix[i, j] \u001b[39m=\u001b[39m get_cost_2(linear_C(gap_cost, score_matrix, seq1, seq2))\n\u001b[0;32m    358\u001b[0m \u001b[39mprint\u001b[39m(matrix)\n",
      "File \u001b[1;32mc:\\Users\\anastasia\\OneDrive\\Documents\\Kandidat\\Bioinf_sem_3\\Projekt\\projectMST\\only_new_algo_01\\utils_copy.py:102\u001b[0m, in \u001b[0;36mlinear_C\u001b[1;34m(gap, score_matrix, seq1, seq2, verbose)\u001b[0m\n\u001b[0;32m    100\u001b[0m     \u001b[39mraise\u001b[39;00m \u001b[39mException\u001b[39;00m(seq1[i\u001b[39m-\u001b[39m\u001b[39m1\u001b[39m] \u001b[39m+\u001b[39m \u001b[39m\"\u001b[39m\u001b[39m is an invalid character in sequence 1.\u001b[39m\u001b[39m\"\u001b[39m)\n\u001b[0;32m    101\u001b[0m \u001b[39mif\u001b[39;00m (\u001b[39mnot\u001b[39;00m seq2[j\u001b[39m-\u001b[39m\u001b[39m1\u001b[39m] \u001b[39min\u001b[39;00m alphabet):\n\u001b[1;32m--> 102\u001b[0m     \u001b[39mraise\u001b[39;00m \u001b[39mException\u001b[39;00m(seq2[j\u001b[39m-\u001b[39m\u001b[39m1\u001b[39m] \u001b[39m+\u001b[39m \u001b[39m\"\u001b[39m\u001b[39m is an invalid character in sequence 2.\u001b[39m\u001b[39m\"\u001b[39m)\n\u001b[0;32m    104\u001b[0m v1 \u001b[39m=\u001b[39m matrix[i\u001b[39m-\u001b[39m\u001b[39m1\u001b[39m, j\u001b[39m-\u001b[39m\u001b[39m1\u001b[39m] \u001b[39m+\u001b[39m score_matrix[seq1[i\u001b[39m-\u001b[39m\u001b[39m1\u001b[39m]][seq2[j\u001b[39m-\u001b[39m\u001b[39m1\u001b[39m]]\n\u001b[0;32m    105\u001b[0m v2 \u001b[39m=\u001b[39m matrix[i\u001b[39m-\u001b[39m\u001b[39m1\u001b[39m, j] \u001b[39m+\u001b[39m gap\n",
      "\u001b[1;31mException\u001b[0m: n is an invalid character in sequence 2."
     ]
    }
   ],
   "source": [
    "#running it!! (not ruining it hopefully :P )\n",
    "\n",
    "new_sp_approxi_combi(brca_seqs_long[0],score_matrix,gap_cost)"
   ]
  }
 ],
 "metadata": {
  "kernelspec": {
   "display_name": "Python 3",
   "language": "python",
   "name": "python3"
  },
  "language_info": {
   "codemirror_mode": {
    "name": "ipython",
    "version": 3
   },
   "file_extension": ".py",
   "mimetype": "text/x-python",
   "name": "python",
   "nbconvert_exporter": "python",
   "pygments_lexer": "ipython3",
   "version": "3.9.12"
  },
  "orig_nbformat": 4
 },
 "nbformat": 4,
 "nbformat_minor": 2
}
