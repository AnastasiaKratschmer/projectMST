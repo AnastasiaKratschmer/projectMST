{
 "cells": [
  {
   "cell_type": "code",
   "execution_count": 11,
   "metadata": {},
   "outputs": [],
   "source": [
    "import numpy as np\n",
    "import sys\n",
    "import os\n",
    "from tqdm import tqdm # loading bar\n",
    "from helpers.utils_copy import linear_C, get_cost_2, get_sequence_string, parse_fasta_multiple, create_score_matrix, write_alignments_to_file, linear_backtrack, extend_alignment, Tree, convert_to_desired_format2,convert_format_mat_to_pseudomat,find_min_span_edges,get_visiting_order\n",
    "from sp_approx_modified import compute_cost\n",
    "\n",
    "\n",
    "matrix_for_MST=[]\n",
    "\n",
    "def sp_approxi(seqs: list[str], score_matrix: dict, gap_cost: int, verbose=False, return_center_string=False):\n",
    "    # STEP 1: Find the center string, s1\n",
    "    matrix = np.full((len(seqs), len(seqs)), np.nan)\n",
    "    # loop over all distinct pairs\n",
    "    for i, seq1 in enumerate(seqs):\n",
    "        for j, seq2 in enumerate(seqs):\n",
    "              matrix[i, j] = get_cost_2(linear_C(gap_cost, score_matrix, seq1, seq2))\n",
    "    print(matrix)\n",
    "    matrix_for_MST=matrix \n",
    "    matrix_for_MST=convert_to_desired_format2(matrix_for_MST)\n",
    "    min_span_edges=find_min_span_edges(matrix_for_MST)\n",
    "    print(matrix_for_MST)\n",
    "    print(min_span_edges)\n",
    "    visiting_order=get_visiting_order(min_span_edges,\"A\") #A needs to be substituted at some point\n",
    "    print(visiting_order) #visiting order is now letters, but we would need that as numbers/idices from the score matrix to keep track. #APPARENTLY NOT ACTUALLY IN USE\n",
    "\n",
    "    # find center string/guide \n",
    "    s1_idx = np.argmin(matrix.sum(axis = 1))\n",
    "    s1 = seqs[s1_idx]\n",
    "    seqs.insert(0, seqs.pop(s1_idx)) # move guide to front of list\n",
    "    if verbose: print(\"The center string, s1, is sequence no.\" + str(s1_idx+1)) # just a print statement to see which string is the center string\n",
    "\n",
    "    # STEP 2: Construct alignment M\n",
    "    M: list[list[str]] = [[letter] for letter in [*s1]]\n",
    "    print(\"M right now:\")\n",
    "    print(M)\n",
    "    print(\"s1 right now:\")\n",
    "    print(s1)\n",
    "    cost_list = []\n",
    "    # print(\"first M = \\n\" + str(M))\n",
    "    for i in range(1, len(seqs)):\n",
    "        # if i == s1_idx: # skip the guide \n",
    "        #    continue\n",
    "        cost = linear_C(gap_cost, score_matrix, s1, seqs[i])\n",
    "        cost_list.append(get_cost_2(cost))\n",
    "        \n",
    "        # prepare A-matrix for extension\n",
    "        alignment1_str, alignment2_str = linear_backtrack(s1, seqs[i], cost, score_matrix, gap_cost)\n",
    "        alignment1, alignment2 = [*alignment1_str], [*alignment2_str]\n",
    "        A = [list(e) for e in zip(alignment1,alignment2)]\n",
    "        \n",
    "        # extend\n",
    "        Mk = extend_alignment(M, A)\n",
    "        M = Mk\n",
    "    \n",
    "    # ACTUALLY COMPUTE (approximate) COST\n",
    "    total_cost = compute_cost(M, score_matrix, gap_cost)\n",
    "    \n",
    "    if return_center_string: return total_cost, M, s1_idx\n",
    "    return total_cost, M, matrix_for_MST, visiting_order"
   ]
  },
  {
   "cell_type": "code",
   "execution_count": 12,
   "metadata": {},
   "outputs": [
    {
     "name": "stdout",
     "output_type": "stream",
     "text": [
      "[[ 0.  5.  7. 12.]\n",
      " [ 5.  0. 10. 17.]\n",
      " [ 7. 10.  0.  7.]\n",
      " [12. 17.  7.  0.]]\n",
      "[['' '5' 'A' 'B']\n",
      " ['' '7' 'A' 'C']\n",
      " ['' '12' 'A' 'D']\n",
      " ['' '10' 'B' 'C']\n",
      " ['' '17' 'B' 'D']\n",
      " ['' '7' 'C' 'D']]\n",
      "[['*' '5' 'A' 'B']\n",
      " ['*' '7' 'A' 'C']\n",
      " ['*' '7' 'C' 'D']\n",
      " ['' '10' 'B' 'C']\n",
      " ['' '12' 'A' 'D']\n",
      " ['' '17' 'B' 'D']]\n"
     ]
    },
    {
     "data": {
      "image/png": "[encoded data removed]",
      "text/plain": [
       "<Figure size 432x288 with 1 Axes>"
      ]
     },
     "metadata": {},
     "output_type": "display_data"
    },
    {
     "name": "stdout",
     "output_type": "stream",
     "text": [
      "['A', 'B', 'C', 'D']\n",
      "M right now:\n",
      "[['a'], ['t'], ['c']]\n",
      "s1 right now:\n",
      "atc\n"
     ]
    },
    {
     "data": {
      "text/plain": [
       "(75,\n",
       " [['a', 'a', 'a', 'g'],\n",
       "  ['-', 't', '-', '-'],\n",
       "  ['t', 't', 'g', 'g'],\n",
       "  ['c', 'c', 't', 'a']],\n",
       " array([['', '5', 'A', 'B'],\n",
       "        ['', '7', 'A', 'C'],\n",
       "        ['', '12', 'A', 'D'],\n",
       "        ['', '10', 'B', 'C'],\n",
       "        ['', '17', 'B', 'D'],\n",
       "        ['', '7', 'C', 'D']], dtype='<U11'),\n",
       " ['A', 'B', 'C', 'D'])"
      ]
     },
     "execution_count": 12,
     "metadata": {},
     "output_type": "execute_result"
    }
   ],
   "source": [
    "seqs=[\"atc\",\"attc\",\"agt\",\"gga\"]\n",
    "score_matrix={'a': {'a': 0, 'c': 5, 'g': 2, 't': 5}, 'c': {'a': 5, 'c': 0, 'g': 5, 't': 2}, 'g': {'a': 2, 'c': 5, 'g': 0, 't': 5}, 't': {'a': 5, 'c': 2, 'g': 5, 't': 0}}\n",
    "gap_cost=5\n",
    "sp_approxi(seqs,score_matrix,gap_cost)\n",
    "\n"
   ]
  }
 ],
 "metadata": {
  "kernelspec": {
   "display_name": "Python 3",
   "language": "python",
   "name": "python3"
  },
  "language_info": {
   "codemirror_mode": {
    "name": "ipython",
    "version": 3
   },
   "file_extension": ".py",
   "mimetype": "text/x-python",
   "name": "python",
   "nbconvert_exporter": "python",
   "pygments_lexer": "ipython3",
   "version": "3.9.12"
  },
  "orig_nbformat": 4
 },
 "nbformat": 4,
 "nbformat_minor": 2
}
